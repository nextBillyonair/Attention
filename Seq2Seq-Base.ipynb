{
 "cells": [
  {
   "cell_type": "code",
   "execution_count": 1,
   "metadata": {},
   "outputs": [],
   "source": [
    "from src.seq2seq import *\n",
    "from src.attention import *\n",
    "from src.utils import *\n",
    "from src.layers import MaskedCrossEntropyLoss\n",
    "import torch \n",
    "import torch.optim as optim"
   ]
  },
  {
   "cell_type": "markdown",
   "metadata": {},
   "source": [
    "# Setup"
   ]
  },
  {
   "cell_type": "code",
   "execution_count": 2,
   "metadata": {},
   "outputs": [],
   "source": [
    "# OPTIONS: \n",
    "# ENGLISH - en, \n",
    "# GERMAN - de, \n",
    "# FRENCH - fr, \n",
    "# CZECH - cs\n",
    "\n",
    "lang1 = 'en'\n",
    "lang2 = 'de'\n",
    "\n",
    "src_sentences, tgt_sentences = load_data(lang1, lang2)"
   ]
  },
  {
   "cell_type": "code",
   "execution_count": 3,
   "metadata": {},
   "outputs": [],
   "source": [
    "TEST_SIZE=0.2\n",
    "BATCH_SIZE=32\n",
    "MAX_VOCAB=10000\n",
    "\n",
    "src_vocab, tgt_vocab, train_loader, test_loader = make_dataset(src_sentences, tgt_sentences, TEST_SIZE, BATCH_SIZE, MAX_VOCAB)"
   ]
  },
  {
   "cell_type": "code",
   "execution_count": 4,
   "metadata": {},
   "outputs": [
    {
     "name": "stdout",
     "output_type": "stream",
     "text": [
      "Number of training examples: 24011\n",
      "Number of testing examples: 6003\n"
     ]
    }
   ],
   "source": [
    "print(f\"Number of training examples: {len(train_loader.dataset)}\")\n",
    "print(f\"Number of testing examples: {len(test_loader.dataset)}\")"
   ]
  },
  {
   "cell_type": "code",
   "execution_count": 5,
   "metadata": {},
   "outputs": [
    {
     "name": "stdout",
     "output_type": "stream",
     "text": [
      "Unique tokens in source (en) vocabulary: 9516\n",
      "Unique tokens in target (de) vocabulary: 10000\n"
     ]
    }
   ],
   "source": [
    "print(f\"Unique tokens in source ({lang1}) vocabulary: {len(src_vocab)}\")\n",
    "print(f\"Unique tokens in target ({lang2}) vocabulary: {len(tgt_vocab)}\")"
   ]
  },
  {
   "cell_type": "markdown",
   "metadata": {},
   "source": [
    "# Make the Model"
   ]
  },
  {
   "cell_type": "code",
   "execution_count": 7,
   "metadata": {},
   "outputs": [],
   "source": [
    "# ENCODER ARGS\n",
    "ENC_UNITS = 128\n",
    "ENC_EMBEDDING = 128\n",
    "SRC_VOCAB_SIZE = len(src_vocab)\n",
    "ENC_NUM_LAYERS = 1\n",
    "\n",
    "# DECODER ARGS\n",
    "DEC_UNITS = ENC_UNITS\n",
    "DEC_EMBEDDING = ENC_EMBEDDING\n",
    "TGT_VOCAB_SIZE = len(tgt_vocab)\n",
    "DEC_NUM_LAYERS = ENC_NUM_LAYERS\n",
    "\n",
    "# SEQ2SEQ ARGS\n",
    "TEACHER_FORCING = 0.\n",
    "MAX_LENGTH = train_loader.dataset.tensors[1].size(-1) + 1\n",
    "SOS_TOKEN = tgt_vocab.SOS_token"
   ]
  },
  {
   "cell_type": "code",
   "execution_count": 8,
   "metadata": {},
   "outputs": [
    {
     "name": "stdout",
     "output_type": "stream",
     "text": [
      "The model has 3,986,192 trainable parameters\n"
     ]
    }
   ],
   "source": [
    "encoder = Encoder(ENC_UNITS, ENC_EMBEDDING, SRC_VOCAB_SIZE, ENC_NUM_LAYERS)\n",
    "decoder = Decoder(DEC_UNITS, DEC_EMBEDDING, TGT_VOCAB_SIZE, DEC_NUM_LAYERS)\n",
    "\n",
    "seq2seq = Seq2Seq(encoder, decoder, TEACHER_FORCING, MAX_LENGTH, SOS_TOKEN)\n",
    "\n",
    "print(f'The model has {count_parameters(seq2seq):,} trainable parameters')"
   ]
  },
  {
   "cell_type": "code",
   "execution_count": 9,
   "metadata": {},
   "outputs": [],
   "source": [
    "criterion = MaskedCrossEntropyLoss(pad_tok=tgt_vocab.PAD_token)\n",
    "optimizer = optim.Adam(seq2seq.parameters())"
   ]
  },
  {
   "cell_type": "markdown",
   "metadata": {},
   "source": [
    "# Train"
   ]
  },
  {
   "cell_type": "code",
   "execution_count": 10,
   "metadata": {},
   "outputs": [
    {
     "name": "stderr",
     "output_type": "stream",
     "text": [
      "100%|██████████| 751/751 [06:49<00:00,  1.94it/s]\n"
     ]
    },
    {
     "name": "stdout",
     "output_type": "stream",
     "text": [
      "torch.Size([32, 47, 10000]) torch.Size([32, 47])\n",
      "torch.Size([32, 47, 10000]) torch.Size([32, 47])\n",
      "torch.Size([32, 47, 10000]) torch.Size([32, 47])\n",
      "torch.Size([32, 47, 10000]) torch.Size([32, 47])\n",
      "torch.Size([32, 47, 10000]) torch.Size([32, 47])\n",
      "torch.Size([32, 47, 10000]) torch.Size([32, 47])\n",
      "torch.Size([32, 47, 10000]) torch.Size([32, 47])\n",
      "torch.Size([32, 47, 10000]) torch.Size([32, 47])\n",
      "torch.Size([32, 47, 10000]) torch.Size([32, 47])\n",
      "torch.Size([32, 47, 10000]) torch.Size([32, 47])\n",
      "torch.Size([32, 47, 10000]) torch.Size([32, 47])\n",
      "torch.Size([32, 47, 10000]) torch.Size([32, 47])\n",
      "torch.Size([32, 47, 10000]) torch.Size([32, 47])\n",
      "torch.Size([32, 47, 10000]) torch.Size([32, 47])\n",
      "torch.Size([32, 47, 10000]) torch.Size([32, 47])\n",
      "torch.Size([32, 47, 10000]) torch.Size([32, 47])\n",
      "torch.Size([32, 47, 10000]) torch.Size([32, 47])\n",
      "torch.Size([32, 47, 10000]) torch.Size([32, 47])\n",
      "torch.Size([32, 47, 10000]) torch.Size([32, 47])\n",
      "torch.Size([32, 47, 10000]) torch.Size([32, 47])\n",
      "torch.Size([32, 47, 10000]) torch.Size([32, 47])\n",
      "torch.Size([32, 47, 10000]) torch.Size([32, 47])\n",
      "torch.Size([32, 47, 10000]) torch.Size([32, 47])\n",
      "torch.Size([32, 47, 10000]) torch.Size([32, 47])\n",
      "torch.Size([32, 47, 10000]) torch.Size([32, 47])\n",
      "torch.Size([32, 47, 10000]) torch.Size([32, 47])\n",
      "torch.Size([32, 47, 10000]) torch.Size([32, 47])\n",
      "torch.Size([32, 47, 10000]) torch.Size([32, 47])\n",
      "torch.Size([32, 47, 10000]) torch.Size([32, 47])\n",
      "torch.Size([32, 47, 10000]) torch.Size([32, 47])\n",
      "torch.Size([32, 47, 10000]) torch.Size([32, 47])\n",
      "torch.Size([32, 47, 10000]) torch.Size([32, 47])\n",
      "torch.Size([32, 47, 10000]) torch.Size([32, 47])\n",
      "torch.Size([32, 47, 10000]) torch.Size([32, 47])\n",
      "torch.Size([32, 47, 10000]) torch.Size([32, 47])\n",
      "torch.Size([32, 47, 10000]) torch.Size([32, 47])\n",
      "torch.Size([32, 47, 10000]) torch.Size([32, 47])\n",
      "torch.Size([32, 47, 10000]) torch.Size([32, 47])\n",
      "torch.Size([32, 47, 10000]) torch.Size([32, 47])\n",
      "torch.Size([32, 47, 10000]) torch.Size([32, 47])\n",
      "torch.Size([32, 47, 10000]) torch.Size([32, 47])\n",
      "torch.Size([32, 47, 10000]) torch.Size([32, 47])\n",
      "torch.Size([32, 47, 10000]) torch.Size([32, 47])\n",
      "torch.Size([32, 47, 10000]) torch.Size([32, 47])\n",
      "torch.Size([32, 47, 10000]) torch.Size([32, 47])\n",
      "torch.Size([32, 47, 10000]) torch.Size([32, 47])\n",
      "torch.Size([32, 47, 10000]) torch.Size([32, 47])\n",
      "torch.Size([32, 47, 10000]) torch.Size([32, 47])\n",
      "torch.Size([32, 47, 10000]) torch.Size([32, 47])\n",
      "torch.Size([32, 47, 10000]) torch.Size([32, 47])\n",
      "torch.Size([32, 47, 10000]) torch.Size([32, 47])\n",
      "torch.Size([32, 47, 10000]) torch.Size([32, 47])\n",
      "torch.Size([32, 47, 10000]) torch.Size([32, 47])\n",
      "torch.Size([32, 47, 10000]) torch.Size([32, 47])\n",
      "torch.Size([32, 47, 10000]) torch.Size([32, 47])\n",
      "torch.Size([32, 47, 10000]) torch.Size([32, 47])\n",
      "torch.Size([32, 47, 10000]) torch.Size([32, 47])\n",
      "torch.Size([32, 47, 10000]) torch.Size([32, 47])\n",
      "torch.Size([32, 47, 10000]) torch.Size([32, 47])\n",
      "torch.Size([32, 47, 10000]) torch.Size([32, 47])\n",
      "torch.Size([32, 47, 10000]) torch.Size([32, 47])\n",
      "torch.Size([32, 47, 10000]) torch.Size([32, 47])\n",
      "torch.Size([32, 47, 10000]) torch.Size([32, 47])\n",
      "torch.Size([32, 47, 10000]) torch.Size([32, 47])\n",
      "torch.Size([32, 47, 10000]) torch.Size([32, 47])\n",
      "torch.Size([32, 47, 10000]) torch.Size([32, 47])\n",
      "torch.Size([32, 47, 10000]) torch.Size([32, 47])\n",
      "torch.Size([32, 47, 10000]) torch.Size([32, 47])\n",
      "torch.Size([32, 47, 10000]) torch.Size([32, 47])\n",
      "torch.Size([32, 47, 10000]) torch.Size([32, 47])\n",
      "torch.Size([32, 47, 10000]) torch.Size([32, 47])\n",
      "torch.Size([32, 47, 10000]) torch.Size([32, 47])\n",
      "torch.Size([32, 47, 10000]) torch.Size([32, 47])\n",
      "torch.Size([32, 47, 10000]) torch.Size([32, 47])\n",
      "torch.Size([32, 47, 10000]) torch.Size([32, 47])\n",
      "torch.Size([32, 47, 10000]) torch.Size([32, 47])\n",
      "torch.Size([32, 47, 10000]) torch.Size([32, 47])\n",
      "torch.Size([32, 47, 10000]) torch.Size([32, 47])\n",
      "torch.Size([32, 47, 10000]) torch.Size([32, 47])\n",
      "torch.Size([32, 47, 10000]) torch.Size([32, 47])\n",
      "torch.Size([32, 47, 10000]) torch.Size([32, 47])\n",
      "torch.Size([32, 47, 10000]) torch.Size([32, 47])\n",
      "torch.Size([32, 47, 10000]) torch.Size([32, 47])\n",
      "torch.Size([32, 47, 10000]) torch.Size([32, 47])\n",
      "torch.Size([32, 47, 10000]) torch.Size([32, 47])\n",
      "torch.Size([32, 47, 10000]) torch.Size([32, 47])\n",
      "torch.Size([32, 47, 10000]) torch.Size([32, 47])\n",
      "torch.Size([32, 47, 10000]) torch.Size([32, 47])\n",
      "torch.Size([32, 47, 10000]) torch.Size([32, 47])\n",
      "torch.Size([32, 47, 10000]) torch.Size([32, 47])\n",
      "torch.Size([32, 47, 10000]) torch.Size([32, 47])\n",
      "torch.Size([32, 47, 10000]) torch.Size([32, 47])\n",
      "torch.Size([32, 47, 10000]) torch.Size([32, 47])\n",
      "torch.Size([32, 47, 10000]) torch.Size([32, 47])\n",
      "torch.Size([32, 47, 10000]) torch.Size([32, 47])\n",
      "torch.Size([32, 47, 10000]) torch.Size([32, 47])\n",
      "torch.Size([32, 47, 10000]) torch.Size([32, 47])\n",
      "torch.Size([32, 47, 10000]) torch.Size([32, 47])\n",
      "torch.Size([32, 47, 10000]) torch.Size([32, 47])\n",
      "torch.Size([32, 47, 10000]) torch.Size([32, 47])\n",
      "torch.Size([32, 47, 10000]) torch.Size([32, 47])\n",
      "torch.Size([32, 47, 10000]) torch.Size([32, 47])\n",
      "torch.Size([32, 47, 10000]) torch.Size([32, 47])\n",
      "torch.Size([32, 47, 10000]) torch.Size([32, 47])\n",
      "torch.Size([32, 47, 10000]) torch.Size([32, 47])\n",
      "torch.Size([32, 47, 10000]) torch.Size([32, 47])\n",
      "torch.Size([32, 47, 10000]) torch.Size([32, 47])\n",
      "torch.Size([32, 47, 10000]) torch.Size([32, 47])\n",
      "torch.Size([32, 47, 10000]) torch.Size([32, 47])\n",
      "torch.Size([32, 47, 10000]) torch.Size([32, 47])\n",
      "torch.Size([32, 47, 10000]) torch.Size([32, 47])\n",
      "torch.Size([32, 47, 10000]) torch.Size([32, 47])\n",
      "torch.Size([32, 47, 10000]) torch.Size([32, 47])\n",
      "torch.Size([32, 47, 10000]) torch.Size([32, 47])\n",
      "torch.Size([32, 47, 10000]) torch.Size([32, 47])\n",
      "torch.Size([32, 47, 10000]) torch.Size([32, 47])\n",
      "torch.Size([32, 47, 10000]) torch.Size([32, 47])\n",
      "torch.Size([32, 47, 10000]) torch.Size([32, 47])\n",
      "torch.Size([32, 47, 10000]) torch.Size([32, 47])\n",
      "torch.Size([32, 47, 10000]) torch.Size([32, 47])\n",
      "torch.Size([32, 47, 10000]) torch.Size([32, 47])\n",
      "torch.Size([32, 47, 10000]) torch.Size([32, 47])\n",
      "torch.Size([32, 47, 10000]) torch.Size([32, 47])\n",
      "torch.Size([32, 47, 10000]) torch.Size([32, 47])\n",
      "torch.Size([32, 47, 10000]) torch.Size([32, 47])\n",
      "torch.Size([32, 47, 10000]) torch.Size([32, 47])\n",
      "torch.Size([32, 47, 10000]) torch.Size([32, 47])\n",
      "torch.Size([32, 47, 10000]) torch.Size([32, 47])\n",
      "torch.Size([32, 47, 10000]) torch.Size([32, 47])\n",
      "torch.Size([32, 47, 10000]) torch.Size([32, 47])\n",
      "torch.Size([32, 47, 10000]) torch.Size([32, 47])\n",
      "torch.Size([32, 47, 10000]) torch.Size([32, 47])\n",
      "torch.Size([32, 47, 10000]) torch.Size([32, 47])\n",
      "torch.Size([32, 47, 10000]) torch.Size([32, 47])\n",
      "torch.Size([32, 47, 10000]) torch.Size([32, 47])\n",
      "torch.Size([32, 47, 10000]) torch.Size([32, 47])\n",
      "torch.Size([32, 47, 10000]) torch.Size([32, 47])\n",
      "torch.Size([32, 47, 10000]) torch.Size([32, 47])\n",
      "torch.Size([32, 47, 10000]) torch.Size([32, 47])\n",
      "torch.Size([32, 47, 10000]) torch.Size([32, 47])\n",
      "torch.Size([32, 47, 10000]) torch.Size([32, 47])\n",
      "torch.Size([32, 47, 10000]) torch.Size([32, 47])\n",
      "torch.Size([32, 47, 10000]) torch.Size([32, 47])\n",
      "torch.Size([32, 47, 10000]) torch.Size([32, 47])\n",
      "torch.Size([32, 47, 10000]) torch.Size([32, 47])\n",
      "torch.Size([32, 47, 10000]) torch.Size([32, 47])\n",
      "torch.Size([32, 47, 10000]) torch.Size([32, 47])\n",
      "torch.Size([32, 47, 10000]) torch.Size([32, 47])\n",
      "torch.Size([32, 47, 10000]) torch.Size([32, 47])\n",
      "torch.Size([32, 47, 10000]) torch.Size([32, 47])\n",
      "torch.Size([32, 47, 10000]) torch.Size([32, 47])\n",
      "torch.Size([32, 47, 10000]) torch.Size([32, 47])\n",
      "torch.Size([32, 47, 10000]) torch.Size([32, 47])\n",
      "torch.Size([32, 47, 10000]) torch.Size([32, 47])\n",
      "torch.Size([32, 47, 10000]) torch.Size([32, 47])\n",
      "torch.Size([32, 47, 10000]) torch.Size([32, 47])\n",
      "torch.Size([32, 47, 10000]) torch.Size([32, 47])\n",
      "torch.Size([32, 47, 10000]) torch.Size([32, 47])\n",
      "torch.Size([32, 47, 10000]) torch.Size([32, 47])\n",
      "torch.Size([32, 47, 10000]) torch.Size([32, 47])\n",
      "torch.Size([32, 47, 10000]) torch.Size([32, 47])\n",
      "torch.Size([32, 47, 10000]) torch.Size([32, 47])\n",
      "torch.Size([32, 47, 10000]) torch.Size([32, 47])\n",
      "torch.Size([32, 47, 10000]) torch.Size([32, 47])\n",
      "torch.Size([32, 47, 10000]) torch.Size([32, 47])\n",
      "torch.Size([32, 47, 10000]) torch.Size([32, 47])\n",
      "torch.Size([32, 47, 10000]) torch.Size([32, 47])\n",
      "torch.Size([32, 47, 10000]) torch.Size([32, 47])\n"
     ]
    },
    {
     "name": "stdout",
     "output_type": "stream",
     "text": [
      "torch.Size([32, 47, 10000]) torch.Size([32, 47])\n",
      "torch.Size([32, 47, 10000]) torch.Size([32, 47])\n",
      "torch.Size([32, 47, 10000]) torch.Size([32, 47])\n",
      "torch.Size([32, 47, 10000]) torch.Size([32, 47])\n",
      "torch.Size([32, 47, 10000]) torch.Size([32, 47])\n",
      "torch.Size([32, 47, 10000]) torch.Size([32, 47])\n",
      "torch.Size([32, 47, 10000]) torch.Size([32, 47])\n",
      "torch.Size([32, 47, 10000]) torch.Size([32, 47])\n",
      "torch.Size([32, 47, 10000]) torch.Size([32, 47])\n",
      "torch.Size([32, 47, 10000]) torch.Size([32, 47])\n",
      "torch.Size([32, 47, 10000]) torch.Size([32, 47])\n",
      "torch.Size([32, 47, 10000]) torch.Size([32, 47])\n",
      "torch.Size([32, 47, 10000]) torch.Size([32, 47])\n",
      "torch.Size([32, 47, 10000]) torch.Size([32, 47])\n",
      "torch.Size([32, 47, 10000]) torch.Size([32, 47])\n",
      "torch.Size([32, 47, 10000]) torch.Size([32, 47])\n",
      "torch.Size([32, 47, 10000]) torch.Size([32, 47])\n",
      "torch.Size([32, 47, 10000]) torch.Size([32, 47])\n"
     ]
    },
    {
     "name": "stderr",
     "output_type": "stream",
     "text": [
      "\r",
      "  0%|          | 0/751 [00:00<?, ?it/s]"
     ]
    },
    {
     "name": "stdout",
     "output_type": "stream",
     "text": [
      "torch.Size([32, 47, 10000]) torch.Size([32, 47])\n",
      "torch.Size([19, 47, 10000]) torch.Size([19, 47])\n",
      "Epoch: 01\n",
      "\tTrain Loss: 4.917 | Train PPL: 136.589\n",
      "\t Val. Loss: 4.419 |  Val. PPL:  82.988\n",
      "\n"
     ]
    },
    {
     "name": "stderr",
     "output_type": "stream",
     "text": [
      "100%|██████████| 751/751 [07:00<00:00,  2.04it/s]\n"
     ]
    },
    {
     "name": "stdout",
     "output_type": "stream",
     "text": [
      "torch.Size([32, 47, 10000]) torch.Size([32, 47])\n",
      "torch.Size([32, 47, 10000]) torch.Size([32, 47])\n",
      "torch.Size([32, 47, 10000]) torch.Size([32, 47])\n",
      "torch.Size([32, 47, 10000]) torch.Size([32, 47])\n",
      "torch.Size([32, 47, 10000]) torch.Size([32, 47])\n",
      "torch.Size([32, 47, 10000]) torch.Size([32, 47])\n",
      "torch.Size([32, 47, 10000]) torch.Size([32, 47])\n",
      "torch.Size([32, 47, 10000]) torch.Size([32, 47])\n",
      "torch.Size([32, 47, 10000]) torch.Size([32, 47])\n",
      "torch.Size([32, 47, 10000]) torch.Size([32, 47])\n",
      "torch.Size([32, 47, 10000]) torch.Size([32, 47])\n",
      "torch.Size([32, 47, 10000]) torch.Size([32, 47])\n",
      "torch.Size([32, 47, 10000]) torch.Size([32, 47])\n",
      "torch.Size([32, 47, 10000]) torch.Size([32, 47])\n",
      "torch.Size([32, 47, 10000]) torch.Size([32, 47])\n",
      "torch.Size([32, 47, 10000]) torch.Size([32, 47])\n",
      "torch.Size([32, 47, 10000]) torch.Size([32, 47])\n",
      "torch.Size([32, 47, 10000]) torch.Size([32, 47])\n",
      "torch.Size([32, 47, 10000]) torch.Size([32, 47])\n",
      "torch.Size([32, 47, 10000]) torch.Size([32, 47])\n",
      "torch.Size([32, 47, 10000]) torch.Size([32, 47])\n",
      "torch.Size([32, 47, 10000]) torch.Size([32, 47])\n",
      "torch.Size([32, 47, 10000]) torch.Size([32, 47])\n",
      "torch.Size([32, 47, 10000]) torch.Size([32, 47])\n",
      "torch.Size([32, 47, 10000]) torch.Size([32, 47])\n",
      "torch.Size([32, 47, 10000]) torch.Size([32, 47])\n",
      "torch.Size([32, 47, 10000]) torch.Size([32, 47])\n",
      "torch.Size([32, 47, 10000]) torch.Size([32, 47])\n",
      "torch.Size([32, 47, 10000]) torch.Size([32, 47])\n",
      "torch.Size([32, 47, 10000]) torch.Size([32, 47])\n",
      "torch.Size([32, 47, 10000]) torch.Size([32, 47])\n",
      "torch.Size([32, 47, 10000]) torch.Size([32, 47])\n",
      "torch.Size([32, 47, 10000]) torch.Size([32, 47])\n",
      "torch.Size([32, 47, 10000]) torch.Size([32, 47])\n",
      "torch.Size([32, 47, 10000]) torch.Size([32, 47])\n",
      "torch.Size([32, 47, 10000]) torch.Size([32, 47])\n",
      "torch.Size([32, 47, 10000]) torch.Size([32, 47])\n",
      "torch.Size([32, 47, 10000]) torch.Size([32, 47])\n",
      "torch.Size([32, 47, 10000]) torch.Size([32, 47])\n",
      "torch.Size([32, 47, 10000]) torch.Size([32, 47])\n",
      "torch.Size([32, 47, 10000]) torch.Size([32, 47])\n",
      "torch.Size([32, 47, 10000]) torch.Size([32, 47])\n",
      "torch.Size([32, 47, 10000]) torch.Size([32, 47])\n",
      "torch.Size([32, 47, 10000]) torch.Size([32, 47])\n",
      "torch.Size([32, 47, 10000]) torch.Size([32, 47])\n",
      "torch.Size([32, 47, 10000]) torch.Size([32, 47])\n",
      "torch.Size([32, 47, 10000]) torch.Size([32, 47])\n",
      "torch.Size([32, 47, 10000]) torch.Size([32, 47])\n",
      "torch.Size([32, 47, 10000]) torch.Size([32, 47])\n",
      "torch.Size([32, 47, 10000]) torch.Size([32, 47])\n",
      "torch.Size([32, 47, 10000]) torch.Size([32, 47])\n",
      "torch.Size([32, 47, 10000]) torch.Size([32, 47])\n",
      "torch.Size([32, 47, 10000]) torch.Size([32, 47])\n",
      "torch.Size([32, 47, 10000]) torch.Size([32, 47])\n",
      "torch.Size([32, 47, 10000]) torch.Size([32, 47])\n",
      "torch.Size([32, 47, 10000]) torch.Size([32, 47])\n",
      "torch.Size([32, 47, 10000]) torch.Size([32, 47])\n",
      "torch.Size([32, 47, 10000]) torch.Size([32, 47])\n",
      "torch.Size([32, 47, 10000]) torch.Size([32, 47])\n",
      "torch.Size([32, 47, 10000]) torch.Size([32, 47])\n",
      "torch.Size([32, 47, 10000]) torch.Size([32, 47])\n",
      "torch.Size([32, 47, 10000]) torch.Size([32, 47])\n",
      "torch.Size([32, 47, 10000]) torch.Size([32, 47])\n",
      "torch.Size([32, 47, 10000]) torch.Size([32, 47])\n",
      "torch.Size([32, 47, 10000]) torch.Size([32, 47])\n",
      "torch.Size([32, 47, 10000]) torch.Size([32, 47])\n",
      "torch.Size([32, 47, 10000]) torch.Size([32, 47])\n",
      "torch.Size([32, 47, 10000]) torch.Size([32, 47])\n",
      "torch.Size([32, 47, 10000]) torch.Size([32, 47])\n",
      "torch.Size([32, 47, 10000]) torch.Size([32, 47])\n",
      "torch.Size([32, 47, 10000]) torch.Size([32, 47])\n",
      "torch.Size([32, 47, 10000]) torch.Size([32, 47])\n",
      "torch.Size([32, 47, 10000]) torch.Size([32, 47])\n",
      "torch.Size([32, 47, 10000]) torch.Size([32, 47])\n",
      "torch.Size([32, 47, 10000]) torch.Size([32, 47])\n",
      "torch.Size([32, 47, 10000]) torch.Size([32, 47])\n",
      "torch.Size([32, 47, 10000]) torch.Size([32, 47])\n",
      "torch.Size([32, 47, 10000]) torch.Size([32, 47])\n",
      "torch.Size([32, 47, 10000]) torch.Size([32, 47])\n",
      "torch.Size([32, 47, 10000]) torch.Size([32, 47])\n",
      "torch.Size([32, 47, 10000]) torch.Size([32, 47])\n",
      "torch.Size([32, 47, 10000]) torch.Size([32, 47])\n",
      "torch.Size([32, 47, 10000]) torch.Size([32, 47])\n",
      "torch.Size([32, 47, 10000]) torch.Size([32, 47])\n",
      "torch.Size([32, 47, 10000]) torch.Size([32, 47])\n",
      "torch.Size([32, 47, 10000]) torch.Size([32, 47])\n",
      "torch.Size([32, 47, 10000]) torch.Size([32, 47])\n",
      "torch.Size([32, 47, 10000]) torch.Size([32, 47])\n",
      "torch.Size([32, 47, 10000]) torch.Size([32, 47])\n",
      "torch.Size([32, 47, 10000]) torch.Size([32, 47])\n",
      "torch.Size([32, 47, 10000]) torch.Size([32, 47])\n",
      "torch.Size([32, 47, 10000]) torch.Size([32, 47])\n",
      "torch.Size([32, 47, 10000]) torch.Size([32, 47])\n",
      "torch.Size([32, 47, 10000]) torch.Size([32, 47])\n",
      "torch.Size([32, 47, 10000]) torch.Size([32, 47])\n",
      "torch.Size([32, 47, 10000]) torch.Size([32, 47])\n",
      "torch.Size([32, 47, 10000]) torch.Size([32, 47])\n",
      "torch.Size([32, 47, 10000]) torch.Size([32, 47])\n",
      "torch.Size([32, 47, 10000]) torch.Size([32, 47])\n",
      "torch.Size([32, 47, 10000]) torch.Size([32, 47])\n",
      "torch.Size([32, 47, 10000]) torch.Size([32, 47])\n",
      "torch.Size([32, 47, 10000]) torch.Size([32, 47])\n",
      "torch.Size([32, 47, 10000]) torch.Size([32, 47])\n",
      "torch.Size([32, 47, 10000]) torch.Size([32, 47])\n",
      "torch.Size([32, 47, 10000]) torch.Size([32, 47])\n",
      "torch.Size([32, 47, 10000]) torch.Size([32, 47])\n",
      "torch.Size([32, 47, 10000]) torch.Size([32, 47])\n",
      "torch.Size([32, 47, 10000]) torch.Size([32, 47])\n",
      "torch.Size([32, 47, 10000]) torch.Size([32, 47])\n",
      "torch.Size([32, 47, 10000]) torch.Size([32, 47])\n",
      "torch.Size([32, 47, 10000]) torch.Size([32, 47])\n",
      "torch.Size([32, 47, 10000]) torch.Size([32, 47])\n",
      "torch.Size([32, 47, 10000]) torch.Size([32, 47])\n",
      "torch.Size([32, 47, 10000]) torch.Size([32, 47])\n",
      "torch.Size([32, 47, 10000]) torch.Size([32, 47])\n",
      "torch.Size([32, 47, 10000]) torch.Size([32, 47])\n",
      "torch.Size([32, 47, 10000]) torch.Size([32, 47])\n",
      "torch.Size([32, 47, 10000]) torch.Size([32, 47])\n",
      "torch.Size([32, 47, 10000]) torch.Size([32, 47])\n",
      "torch.Size([32, 47, 10000]) torch.Size([32, 47])\n",
      "torch.Size([32, 47, 10000]) torch.Size([32, 47])\n",
      "torch.Size([32, 47, 10000]) torch.Size([32, 47])\n",
      "torch.Size([32, 47, 10000]) torch.Size([32, 47])\n",
      "torch.Size([32, 47, 10000]) torch.Size([32, 47])\n",
      "torch.Size([32, 47, 10000]) torch.Size([32, 47])\n",
      "torch.Size([32, 47, 10000]) torch.Size([32, 47])\n",
      "torch.Size([32, 47, 10000]) torch.Size([32, 47])\n",
      "torch.Size([32, 47, 10000]) torch.Size([32, 47])\n",
      "torch.Size([32, 47, 10000]) torch.Size([32, 47])\n",
      "torch.Size([32, 47, 10000]) torch.Size([32, 47])\n",
      "torch.Size([32, 47, 10000]) torch.Size([32, 47])\n",
      "torch.Size([32, 47, 10000]) torch.Size([32, 47])\n",
      "torch.Size([32, 47, 10000]) torch.Size([32, 47])\n",
      "torch.Size([32, 47, 10000]) torch.Size([32, 47])\n",
      "torch.Size([32, 47, 10000]) torch.Size([32, 47])\n",
      "torch.Size([32, 47, 10000]) torch.Size([32, 47])\n",
      "torch.Size([32, 47, 10000]) torch.Size([32, 47])\n",
      "torch.Size([32, 47, 10000]) torch.Size([32, 47])\n",
      "torch.Size([32, 47, 10000]) torch.Size([32, 47])\n",
      "torch.Size([32, 47, 10000]) torch.Size([32, 47])\n",
      "torch.Size([32, 47, 10000]) torch.Size([32, 47])\n",
      "torch.Size([32, 47, 10000]) torch.Size([32, 47])\n",
      "torch.Size([32, 47, 10000]) torch.Size([32, 47])\n",
      "torch.Size([32, 47, 10000]) torch.Size([32, 47])\n",
      "torch.Size([32, 47, 10000]) torch.Size([32, 47])\n",
      "torch.Size([32, 47, 10000]) torch.Size([32, 47])\n",
      "torch.Size([32, 47, 10000]) torch.Size([32, 47])\n",
      "torch.Size([32, 47, 10000]) torch.Size([32, 47])\n",
      "torch.Size([32, 47, 10000]) torch.Size([32, 47])\n",
      "torch.Size([32, 47, 10000]) torch.Size([32, 47])\n",
      "torch.Size([32, 47, 10000]) torch.Size([32, 47])\n",
      "torch.Size([32, 47, 10000]) torch.Size([32, 47])\n",
      "torch.Size([32, 47, 10000]) torch.Size([32, 47])\n",
      "torch.Size([32, 47, 10000]) torch.Size([32, 47])\n",
      "torch.Size([32, 47, 10000]) torch.Size([32, 47])\n",
      "torch.Size([32, 47, 10000]) torch.Size([32, 47])\n",
      "torch.Size([32, 47, 10000]) torch.Size([32, 47])\n",
      "torch.Size([32, 47, 10000]) torch.Size([32, 47])\n",
      "torch.Size([32, 47, 10000]) torch.Size([32, 47])\n",
      "torch.Size([32, 47, 10000]) torch.Size([32, 47])\n",
      "torch.Size([32, 47, 10000]) torch.Size([32, 47])\n",
      "torch.Size([32, 47, 10000]) torch.Size([32, 47])\n",
      "torch.Size([32, 47, 10000]) torch.Size([32, 47])\n",
      "torch.Size([32, 47, 10000]) torch.Size([32, 47])\n",
      "torch.Size([32, 47, 10000]) torch.Size([32, 47])\n",
      "torch.Size([32, 47, 10000]) torch.Size([32, 47])\n",
      "torch.Size([32, 47, 10000]) torch.Size([32, 47])\n",
      "torch.Size([32, 47, 10000]) torch.Size([32, 47])\n"
     ]
    },
    {
     "name": "stdout",
     "output_type": "stream",
     "text": [
      "torch.Size([32, 47, 10000]) torch.Size([32, 47])\n",
      "torch.Size([32, 47, 10000]) torch.Size([32, 47])\n",
      "torch.Size([32, 47, 10000]) torch.Size([32, 47])\n",
      "torch.Size([32, 47, 10000]) torch.Size([32, 47])\n",
      "torch.Size([32, 47, 10000]) torch.Size([32, 47])\n",
      "torch.Size([32, 47, 10000]) torch.Size([32, 47])\n",
      "torch.Size([32, 47, 10000]) torch.Size([32, 47])\n",
      "torch.Size([32, 47, 10000]) torch.Size([32, 47])\n",
      "torch.Size([32, 47, 10000]) torch.Size([32, 47])\n",
      "torch.Size([32, 47, 10000]) torch.Size([32, 47])\n",
      "torch.Size([32, 47, 10000]) torch.Size([32, 47])\n",
      "torch.Size([32, 47, 10000]) torch.Size([32, 47])\n",
      "torch.Size([32, 47, 10000]) torch.Size([32, 47])\n",
      "torch.Size([32, 47, 10000]) torch.Size([32, 47])\n",
      "torch.Size([32, 47, 10000]) torch.Size([32, 47])\n",
      "torch.Size([32, 47, 10000]) torch.Size([32, 47])\n",
      "torch.Size([32, 47, 10000]) torch.Size([32, 47])\n",
      "torch.Size([32, 47, 10000]) torch.Size([32, 47])\n",
      "torch.Size([32, 47, 10000]) torch.Size([32, 47])\n",
      "torch.Size([19, 47, 10000]) torch.Size([19, 47])\n",
      "Epoch: 02\n",
      "\tTrain Loss: 4.464 | Train PPL:  86.876\n",
      "\t Val. Loss: 4.281 |  Val. PPL:  72.304\n",
      "\n"
     ]
    }
   ],
   "source": [
    "N_EPOCHS = 2\n",
    "CLIP = 1\n",
    "\n",
    "for epoch in range(N_EPOCHS):\n",
    "    \n",
    "    train_loss = train(seq2seq, train_loader, optimizer, criterion, CLIP, src_vocab.PAD_token)\n",
    "    valid_loss = evaluate(seq2seq, test_loader, criterion)\n",
    "    \n",
    "    print(f'Epoch: {epoch+1:02}')\n",
    "    print(f'\\tTrain Loss: {train_loss:.3f} | Train PPL: {math.exp(train_loss):7.3f}')\n",
    "    print(f'\\t Val. Loss: {valid_loss:.3f} |  Val. PPL: {math.exp(valid_loss):7.3f}')\n"
   ]
  },
  {
   "cell_type": "code",
   "execution_count": 19,
   "metadata": {},
   "outputs": [],
   "source": [
    "sent = 'a woman on a subway is falling asleep .'"
   ]
  },
  {
   "cell_type": "code",
   "execution_count": 20,
   "metadata": {},
   "outputs": [
    {
     "data": {
      "text/plain": [
       "(['<sos> eine frau in einem einem . . <eos> <eos> <eos> <eos> <eos> <eos> <eos> <eos> <eos> <eos> <eos> <eos> <eos> <eos> <eos> <eos> <eos> <eos> <eos> <eos> <eos> <eos> <eos> <eos> <eos> <eos> <eos> <eos> <eos> <eos> <eos> <eos> <eos> <eos> <eos> <eos> <eos> <eos> <eos>'],\n",
       " None)"
      ]
     },
     "execution_count": 20,
     "metadata": {},
     "output_type": "execute_result"
    }
   ],
   "source": [
    "translate(sent, seq2seq, src_vocab, tgt_vocab, src_vocab.PAD_token)"
   ]
  },
  {
   "cell_type": "code",
   "execution_count": null,
   "metadata": {},
   "outputs": [],
   "source": []
  },
  {
   "cell_type": "code",
   "execution_count": null,
   "metadata": {},
   "outputs": [],
   "source": []
  },
  {
   "cell_type": "code",
   "execution_count": null,
   "metadata": {},
   "outputs": [],
   "source": []
  },
  {
   "cell_type": "code",
   "execution_count": null,
   "metadata": {},
   "outputs": [],
   "source": []
  },
  {
   "cell_type": "code",
   "execution_count": null,
   "metadata": {},
   "outputs": [],
   "source": []
  },
  {
   "cell_type": "code",
   "execution_count": null,
   "metadata": {},
   "outputs": [],
   "source": []
  },
  {
   "cell_type": "code",
   "execution_count": null,
   "metadata": {},
   "outputs": [],
   "source": []
  },
  {
   "cell_type": "code",
   "execution_count": null,
   "metadata": {},
   "outputs": [],
   "source": []
  },
  {
   "cell_type": "code",
   "execution_count": null,
   "metadata": {},
   "outputs": [],
   "source": []
  },
  {
   "cell_type": "code",
   "execution_count": null,
   "metadata": {},
   "outputs": [],
   "source": []
  },
  {
   "cell_type": "code",
   "execution_count": null,
   "metadata": {},
   "outputs": [],
   "source": []
  },
  {
   "cell_type": "code",
   "execution_count": null,
   "metadata": {},
   "outputs": [],
   "source": []
  },
  {
   "cell_type": "code",
   "execution_count": null,
   "metadata": {},
   "outputs": [],
   "source": []
  },
  {
   "cell_type": "code",
   "execution_count": null,
   "metadata": {},
   "outputs": [],
   "source": []
  },
  {
   "cell_type": "code",
   "execution_count": null,
   "metadata": {},
   "outputs": [],
   "source": []
  },
  {
   "cell_type": "code",
   "execution_count": null,
   "metadata": {},
   "outputs": [],
   "source": []
  },
  {
   "cell_type": "code",
   "execution_count": null,
   "metadata": {},
   "outputs": [],
   "source": []
  }
 ],
 "metadata": {
  "kernelspec": {
   "display_name": "Python 3",
   "language": "python",
   "name": "python3"
  },
  "language_info": {
   "codemirror_mode": {
    "name": "ipython",
    "version": 3
   },
   "file_extension": ".py",
   "mimetype": "text/x-python",
   "name": "python",
   "nbconvert_exporter": "python",
   "pygments_lexer": "ipython3",
   "version": "3.7.4"
  }
 },
 "nbformat": 4,
 "nbformat_minor": 2
}
