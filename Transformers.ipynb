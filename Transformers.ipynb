{
 "cells": [
  {
   "cell_type": "code",
   "execution_count": 1,
   "metadata": {},
   "outputs": [],
   "source": [
    "from src.layers import *\n",
    "from src.utils import *\n",
    "from src.layers import MaskedCrossEntropyLoss\n",
    "import torch \n",
    "import torch.optim as optim\n",
    "import random"
   ]
  },
  {
   "cell_type": "markdown",
   "metadata": {},
   "source": [
    "# Setup"
   ]
  },
  {
   "cell_type": "code",
   "execution_count": 2,
   "metadata": {},
   "outputs": [],
   "source": [
    "# OPTIONS: \n",
    "# ENGLISH - en, \n",
    "# GERMAN - de, \n",
    "# FRENCH - fr, \n",
    "# CZECH - cs\n",
    "\n",
    "lang1 = 'de'\n",
    "lang2 = 'en'\n",
    "\n",
    "train_sentences, test_sentences = load_data(lang1, lang2)\n",
    "train_sentences = (train_sentences[0][:500], train_sentences[1][:500])"
   ]
  },
  {
   "cell_type": "code",
   "execution_count": 3,
   "metadata": {},
   "outputs": [],
   "source": [
    "TEST_SIZE=0.2\n",
    "BATCH_SIZE=64\n",
    "VALID_BATCH_SIZE=128\n",
    "MAX_VOCAB=20000\n",
    "\n",
    "src_vocab, tgt_vocab, train_loader, valid_loader = make_dataset(train_sentences, test_sentences, BATCH_SIZE, VALID_BATCH_SIZE, MAX_VOCAB)"
   ]
  },
  {
   "cell_type": "code",
   "execution_count": 4,
   "metadata": {},
   "outputs": [
    {
     "name": "stdout",
     "output_type": "stream",
     "text": [
      "Number of training examples: 500\n",
      "Number of validation examples: 1014\n",
      "Training Batches 8\tValidation Batches 8\n"
     ]
    }
   ],
   "source": [
    "print(f\"Number of training examples: {len(train_loader.dataset)}\")\n",
    "print(f\"Number of validation examples: {len(valid_loader.dataset)}\")\n",
    "print(f\"Training Batches {len(train_loader)}\\tValidation Batches {len(valid_loader)}\")"
   ]
  },
  {
   "cell_type": "code",
   "execution_count": 5,
   "metadata": {},
   "outputs": [
    {
     "name": "stdout",
     "output_type": "stream",
     "text": [
      "Unique tokens in source (de) vocabulary: 1348\n",
      "Unique tokens in target (en) vocabulary: 1224\n"
     ]
    }
   ],
   "source": [
    "print(f\"Unique tokens in source ({lang1}) vocabulary: {len(src_vocab)}\")\n",
    "print(f\"Unique tokens in target ({lang2}) vocabulary: {len(tgt_vocab)}\")"
   ]
  },
  {
   "cell_type": "markdown",
   "metadata": {},
   "source": [
    "# Make the Model"
   ]
  },
  {
   "cell_type": "code",
   "execution_count": 6,
   "metadata": {},
   "outputs": [],
   "source": [
    "NUM_LAYERS=1\n",
    "MODEL_DIM=128\n",
    "NUM_HEADS=8\n",
    "DFF=128\n",
    "\n",
    "# SEQ2SEQ ARGS\n",
    "MAX_LENGTH = max(train_loader.dataset.tensors[1].size(1), train_loader.dataset.tensors[0].size(1)) + 3\n",
    "SOS_TOKEN = tgt_vocab.SOS_token\n",
    "TEACHER_FORCING = 1.0"
   ]
  },
  {
   "cell_type": "code",
   "execution_count": 7,
   "metadata": {},
   "outputs": [
    {
     "name": "stdout",
     "output_type": "stream",
     "text": [
      "The model has 4,115,472 trainable parameters\n"
     ]
    }
   ],
   "source": [
    "seq2seq = Transformer(NUM_LAYERS, MODEL_DIM, NUM_HEADS, DFF)\n",
    "\n",
    "print(f'The model has {count_parameters(seq2seq):,} trainable parameters')"
   ]
  },
  {
   "cell_type": "code",
   "execution_count": 8,
   "metadata": {},
   "outputs": [
    {
     "name": "stdout",
     "output_type": "stream",
     "text": [
      "Transformer(\n",
      "  (encoder): Encoder(\n",
      "    (embedding): Embedding(10000, 128)\n",
      "    (pos_encoding): PositionalEmbeddings(\n",
      "      (dropout): Dropout(p=0.1, inplace=False)\n",
      "    )\n",
      "    (enc_layers): ModuleList(\n",
      "      (0): EncoderLayer(\n",
      "        (mha): MultiheadAttention(\n",
      "          (wq): Linear(in_features=128, out_features=128, bias=True)\n",
      "          (wk): Linear(in_features=128, out_features=128, bias=True)\n",
      "          (wv): Linear(in_features=128, out_features=128, bias=True)\n",
      "          (dense): Linear(in_features=128, out_features=128, bias=True)\n",
      "        )\n",
      "        (ffn): PointwiseFeedForward(\n",
      "          (dense_1): Linear(in_features=128, out_features=128, bias=True)\n",
      "          (dense_2): Linear(in_features=128, out_features=128, bias=True)\n",
      "        )\n",
      "        (layernorm1): LayerNorm((128,), eps=1e-06, elementwise_affine=True)\n",
      "        (layernorm2): LayerNorm((128,), eps=1e-06, elementwise_affine=True)\n",
      "        (dropout1): Dropout(p=0.1, inplace=False)\n",
      "        (dropout2): Dropout(p=0.1, inplace=False)\n",
      "      )\n",
      "    )\n",
      "  )\n",
      "  (decoder): Decoder(\n",
      "    (embedding): Embedding(10000, 128)\n",
      "    (pos_encoding): PositionalEmbeddings(\n",
      "      (dropout): Dropout(p=0.1, inplace=False)\n",
      "    )\n",
      "    (dec_layers): ModuleList(\n",
      "      (0): DecoderLayer(\n",
      "        (mha1): MultiheadAttention(\n",
      "          (wq): Linear(in_features=128, out_features=128, bias=True)\n",
      "          (wk): Linear(in_features=128, out_features=128, bias=True)\n",
      "          (wv): Linear(in_features=128, out_features=128, bias=True)\n",
      "          (dense): Linear(in_features=128, out_features=128, bias=True)\n",
      "        )\n",
      "        (mha2): MultiheadAttention(\n",
      "          (wq): Linear(in_features=128, out_features=128, bias=True)\n",
      "          (wk): Linear(in_features=128, out_features=128, bias=True)\n",
      "          (wv): Linear(in_features=128, out_features=128, bias=True)\n",
      "          (dense): Linear(in_features=128, out_features=128, bias=True)\n",
      "        )\n",
      "        (ffn): PointwiseFeedForward(\n",
      "          (dense_1): Linear(in_features=128, out_features=128, bias=True)\n",
      "          (dense_2): Linear(in_features=128, out_features=128, bias=True)\n",
      "        )\n",
      "        (layernorm1): LayerNorm((128,), eps=1e-06, elementwise_affine=True)\n",
      "        (layernorm2): LayerNorm((128,), eps=1e-06, elementwise_affine=True)\n",
      "        (layernorm3): LayerNorm((128,), eps=1e-06, elementwise_affine=True)\n",
      "        (dropout1): Dropout(p=0.1, inplace=False)\n",
      "        (dropout2): Dropout(p=0.1, inplace=False)\n",
      "        (dropout3): Dropout(p=0.1, inplace=False)\n",
      "      )\n",
      "    )\n",
      "  )\n",
      "  (final_layer): Linear(in_features=128, out_features=10000, bias=True)\n",
      ")\n"
     ]
    }
   ],
   "source": [
    "print(seq2seq)"
   ]
  },
  {
   "cell_type": "code",
   "execution_count": 9,
   "metadata": {},
   "outputs": [],
   "source": [
    "criterion = MaskedCrossEntropyLoss(pad_tok=tgt_vocab.PAD_token)\n",
    "optimizer = optim.Adam(seq2seq.parameters())"
   ]
  },
  {
   "cell_type": "markdown",
   "metadata": {},
   "source": [
    "# Train"
   ]
  },
  {
   "cell_type": "code",
   "execution_count": 10,
   "metadata": {
    "scrolled": false
   },
   "outputs": [],
   "source": [
    "# valid_loss = evaluate(seq2seq, valid_loader, criterion)"
   ]
  },
  {
   "cell_type": "code",
   "execution_count": 11,
   "metadata": {},
   "outputs": [],
   "source": [
    "# valid_loss"
   ]
  },
  {
   "cell_type": "code",
   "execution_count": null,
   "metadata": {},
   "outputs": [],
   "source": []
  },
  {
   "cell_type": "code",
   "execution_count": null,
   "metadata": {},
   "outputs": [],
   "source": []
  },
  {
   "cell_type": "code",
   "execution_count": null,
   "metadata": {},
   "outputs": [],
   "source": []
  },
  {
   "cell_type": "code",
   "execution_count": null,
   "metadata": {},
   "outputs": [],
   "source": []
  },
  {
   "cell_type": "code",
   "execution_count": 64,
   "metadata": {
    "scrolled": false
   },
   "outputs": [
    {
     "name": "stdout",
     "output_type": "stream",
     "text": [
      "Epoch: 01\n",
      "100%|██████████| 8/8 [00:07<00:00,  1.16it/s]\n",
      "100%|██████████| 8/8 [00:01<00:00,  4.31it/s]\n",
      "\tTrain Loss: 0.272 | Train PPL:   1.312\n",
      "\t Val. Loss: 0.168 |  Val. PPL:   1.182\n",
      "Epoch: 02\n",
      "100%|██████████| 8/8 [00:07<00:00,  1.18it/s]\n",
      "100%|██████████| 8/8 [00:01<00:00,  4.40it/s]\n",
      "\tTrain Loss: 0.261 | Train PPL:   1.298\n",
      "\t Val. Loss: 0.162 |  Val. PPL:   1.176\n",
      "Epoch: 03\n",
      "100%|██████████| 8/8 [00:06<00:00,  1.21it/s]\n",
      "100%|██████████| 8/8 [00:01<00:00,  4.42it/s]\n",
      "\tTrain Loss: 0.259 | Train PPL:   1.296\n",
      "\t Val. Loss: 0.163 |  Val. PPL:   1.177\n",
      "Epoch: 04\n",
      "100%|██████████| 8/8 [00:06<00:00,  1.19it/s]\n",
      "100%|██████████| 8/8 [00:01<00:00,  4.25it/s]\n",
      "\tTrain Loss: 0.263 | Train PPL:   1.300\n",
      "\t Val. Loss: 0.163 |  Val. PPL:   1.177\n",
      "Epoch: 05\n",
      "100%|██████████| 8/8 [00:07<00:00,  1.18it/s]\n",
      "100%|██████████| 8/8 [00:01<00:00,  4.30it/s]\n",
      "\tTrain Loss: 0.262 | Train PPL:   1.300\n",
      "\t Val. Loss: 0.163 |  Val. PPL:   1.177\n",
      "Epoch: 06\n",
      "100%|██████████| 8/8 [00:07<00:00,  1.14it/s]\n",
      "100%|██████████| 8/8 [00:02<00:00,  3.32it/s]\n",
      "\tTrain Loss: 0.253 | Train PPL:   1.288\n",
      "\t Val. Loss: 0.161 |  Val. PPL:   1.175\n",
      "Epoch: 07\n",
      "100%|██████████| 8/8 [00:09<00:00,  1.19s/it]\n",
      "100%|██████████| 8/8 [00:03<00:00,  2.31it/s]\n",
      "\tTrain Loss: 0.252 | Train PPL:   1.287\n",
      "\t Val. Loss: 0.162 |  Val. PPL:   1.176\n",
      "Epoch: 08\n",
      "100%|██████████| 8/8 [00:08<00:00,  1.02s/it]\n",
      "100%|██████████| 8/8 [00:02<00:00,  4.07it/s]\n",
      "\tTrain Loss: 0.262 | Train PPL:   1.299\n",
      "\t Val. Loss: 0.163 |  Val. PPL:   1.178\n",
      "Epoch: 09\n",
      "100%|██████████| 8/8 [00:07<00:00,  1.13it/s]\n",
      "100%|██████████| 8/8 [00:02<00:00,  3.16it/s]\n",
      "\tTrain Loss: 0.269 | Train PPL:   1.309\n",
      "\t Val. Loss: 0.165 |  Val. PPL:   1.179\n",
      "Epoch: 10\n",
      "100%|██████████| 8/8 [00:09<00:00,  1.10s/it]\n",
      "100%|██████████| 8/8 [00:02<00:00,  4.05it/s]\n",
      "\tTrain Loss: 0.257 | Train PPL:   1.294\n",
      "\t Val. Loss: 0.157 |  Val. PPL:   1.170\n",
      "Epoch: 11\n",
      "100%|██████████| 8/8 [00:08<00:00,  1.05s/it]\n",
      "100%|██████████| 8/8 [00:01<00:00,  4.46it/s]\n",
      "\tTrain Loss: 0.252 | Train PPL:   1.286\n",
      "\t Val. Loss: 0.158 |  Val. PPL:   1.171\n",
      "Epoch: 12\n",
      "100%|██████████| 8/8 [00:08<00:00,  1.02it/s]\n",
      "100%|██████████| 8/8 [00:01<00:00,  4.22it/s]\n",
      "\tTrain Loss: 0.249 | Train PPL:   1.282\n",
      "\t Val. Loss: 0.158 |  Val. PPL:   1.171\n",
      "Epoch: 13\n",
      "100%|██████████| 8/8 [00:06<00:00,  1.18it/s]\n",
      "100%|██████████| 8/8 [00:02<00:00,  3.73it/s]\n",
      "\tTrain Loss: 0.247 | Train PPL:   1.281\n",
      "\t Val. Loss: 0.160 |  Val. PPL:   1.173\n",
      "Epoch: 14\n",
      "100%|██████████| 8/8 [00:07<00:00,  1.17it/s]\n",
      "100%|██████████| 8/8 [00:01<00:00,  4.31it/s]\n",
      "\tTrain Loss: 0.239 | Train PPL:   1.270\n",
      "\t Val. Loss: 0.159 |  Val. PPL:   1.173\n",
      "Epoch: 15\n",
      "100%|██████████| 8/8 [00:07<00:00,  1.08it/s]\n",
      "100%|██████████| 8/8 [00:02<00:00,  3.07it/s]\n",
      "\tTrain Loss: 0.254 | Train PPL:   1.289\n",
      "\t Val. Loss: 0.159 |  Val. PPL:   1.172\n",
      "Epoch: 16\n",
      "100%|██████████| 8/8 [00:08<00:00,  1.14s/it]\n",
      "100%|██████████| 8/8 [00:02<00:00,  3.74it/s]\n",
      "\tTrain Loss: 0.248 | Train PPL:   1.281\n",
      "\t Val. Loss: 0.164 |  Val. PPL:   1.178\n",
      "Epoch: 17\n",
      "100%|██████████| 8/8 [00:08<00:00,  1.06it/s]\n",
      "100%|██████████| 8/8 [00:01<00:00,  4.26it/s]\n",
      "\tTrain Loss: 0.245 | Train PPL:   1.277\n",
      "\t Val. Loss: 0.160 |  Val. PPL:   1.173\n",
      "Epoch: 18\n",
      "100%|██████████| 8/8 [00:07<00:00,  1.12it/s]\n",
      "100%|██████████| 8/8 [00:01<00:00,  4.27it/s]\n",
      "\tTrain Loss: 0.243 | Train PPL:   1.275\n",
      "\t Val. Loss: 0.162 |  Val. PPL:   1.176\n",
      "Epoch: 19\n",
      "100%|██████████| 8/8 [00:07<00:00,  1.14it/s]\n",
      "100%|██████████| 8/8 [00:02<00:00,  3.77it/s]\n",
      "\tTrain Loss: 0.244 | Train PPL:   1.276\n",
      "\t Val. Loss: 0.156 |  Val. PPL:   1.168\n",
      "Epoch: 20\n",
      "100%|██████████| 8/8 [00:09<00:00,  1.17s/it]\n",
      "100%|██████████| 8/8 [00:02<00:00,  3.48it/s]\n",
      "\tTrain Loss: 0.234 | Train PPL:   1.264\n",
      "\t Val. Loss: 0.159 |  Val. PPL:   1.173\n",
      "Epoch: 21\n",
      "100%|██████████| 8/8 [00:07<00:00,  1.08it/s]\n",
      "100%|██████████| 8/8 [00:02<00:00,  4.02it/s]\n",
      "\tTrain Loss: 0.238 | Train PPL:   1.269\n",
      "\t Val. Loss: 0.156 |  Val. PPL:   1.169\n",
      "Epoch: 22\n",
      "100%|██████████| 8/8 [00:09<00:00,  1.15s/it]\n",
      "100%|██████████| 8/8 [00:03<00:00,  2.94it/s]\n",
      "\tTrain Loss: 0.234 | Train PPL:   1.263\n",
      "\t Val. Loss: 0.154 |  Val. PPL:   1.166\n",
      "Epoch: 23\n",
      "100%|██████████| 8/8 [00:08<00:00,  1.04s/it]\n",
      "100%|██████████| 8/8 [00:02<00:00,  3.71it/s]\n",
      "\tTrain Loss: 0.235 | Train PPL:   1.265\n",
      "\t Val. Loss: 0.163 |  Val. PPL:   1.177\n",
      "Epoch: 24\n",
      "100%|██████████| 8/8 [00:07<00:00,  1.11it/s]\n",
      "100%|██████████| 8/8 [00:02<00:00,  3.10it/s]\n",
      "\tTrain Loss: 0.231 | Train PPL:   1.260\n",
      "\t Val. Loss: 0.156 |  Val. PPL:   1.168\n",
      "Epoch: 25\n",
      "100%|██████████| 8/8 [00:08<00:00,  1.02s/it]\n",
      "100%|██████████| 8/8 [00:01<00:00,  4.40it/s]\n",
      "\tTrain Loss: 0.230 | Train PPL:   1.258\n",
      "\t Val. Loss: 0.153 |  Val. PPL:   1.165\n",
      "Epoch: 26\n",
      "100%|██████████| 8/8 [00:07<00:00,  1.04it/s]\n",
      "100%|██████████| 8/8 [00:01<00:00,  4.14it/s]\n",
      "\tTrain Loss: 0.237 | Train PPL:   1.267\n",
      "\t Val. Loss: 0.160 |  Val. PPL:   1.173\n",
      "Epoch: 27\n",
      "100%|██████████| 8/8 [00:07<00:00,  1.12it/s]\n",
      "100%|██████████| 8/8 [00:01<00:00,  4.30it/s]\n",
      "\tTrain Loss: 0.234 | Train PPL:   1.263\n",
      "\t Val. Loss: 0.152 |  Val. PPL:   1.164\n",
      "Epoch: 28\n",
      "100%|██████████| 8/8 [00:07<00:00,  1.11it/s]\n",
      "100%|██████████| 8/8 [00:02<00:00,  3.78it/s]\n",
      "\tTrain Loss: 0.232 | Train PPL:   1.261\n",
      "\t Val. Loss: 0.156 |  Val. PPL:   1.169\n",
      "Epoch: 29\n",
      "100%|██████████| 8/8 [00:09<00:00,  1.19s/it]\n",
      "100%|██████████| 8/8 [00:02<00:00,  3.57it/s]\n",
      "\tTrain Loss: 0.228 | Train PPL:   1.256\n",
      "\t Val. Loss: 0.157 |  Val. PPL:   1.171\n",
      "Epoch: 30\n",
      "100%|██████████| 8/8 [00:08<00:00,  1.08s/it]\n",
      "100%|██████████| 8/8 [00:02<00:00,  4.23it/s]\n",
      "\tTrain Loss: 0.235 | Train PPL:   1.264\n",
      "\t Val. Loss: 0.158 |  Val. PPL:   1.171\n",
      "Epoch: 31\n",
      "100%|██████████| 8/8 [00:08<00:00,  1.05s/it]\n",
      "100%|██████████| 8/8 [00:02<00:00,  3.72it/s]\n",
      "\tTrain Loss: 0.230 | Train PPL:   1.259\n",
      "\t Val. Loss: 0.154 |  Val. PPL:   1.166\n",
      "Epoch: 32\n",
      "100%|██████████| 8/8 [00:08<00:00,  1.05s/it]\n",
      "100%|██████████| 8/8 [00:02<00:00,  3.64it/s]\n",
      "\tTrain Loss: 0.223 | Train PPL:   1.250\n",
      "\t Val. Loss: 0.152 |  Val. PPL:   1.165\n",
      "Epoch: 33\n",
      "100%|██████████| 8/8 [00:07<00:00,  1.13it/s]\n",
      "100%|██████████| 8/8 [00:01<00:00,  4.29it/s]\n",
      "\tTrain Loss: 0.228 | Train PPL:   1.256\n",
      "\t Val. Loss: 0.153 |  Val. PPL:   1.165\n",
      "Epoch: 34\n",
      "100%|██████████| 8/8 [00:08<00:00,  1.01it/s]\n",
      "100%|██████████| 8/8 [00:02<00:00,  3.14it/s]\n",
      "\tTrain Loss: 0.225 | Train PPL:   1.253\n",
      "\t Val. Loss: 0.153 |  Val. PPL:   1.166\n",
      "Epoch: 35\n",
      "100%|██████████| 8/8 [00:08<00:00,  1.03s/it]\n",
      "100%|██████████| 8/8 [00:01<00:00,  4.32it/s]\n",
      "\tTrain Loss: 0.231 | Train PPL:   1.260\n",
      "\t Val. Loss: 0.160 |  Val. PPL:   1.173\n",
      "Epoch: 36\n",
      "100%|██████████| 8/8 [00:09<00:00,  1.14s/it]\n",
      "100%|██████████| 8/8 [00:02<00:00,  3.17it/s]\n",
      "\tTrain Loss: 0.221 | Train PPL:   1.247\n",
      "\t Val. Loss: 0.158 |  Val. PPL:   1.171\n",
      "Epoch: 37\n",
      "100%|██████████| 8/8 [00:08<00:00,  1.02s/it]\n",
      "100%|██████████| 8/8 [00:02<00:00,  3.60it/s]\n",
      "\tTrain Loss: 0.235 | Train PPL:   1.265\n",
      "\t Val. Loss: 0.155 |  Val. PPL:   1.168\n",
      "Epoch: 38\n",
      "100%|██████████| 8/8 [00:08<00:00,  1.07s/it]\n",
      "100%|██████████| 8/8 [00:02<00:00,  4.09it/s]\n",
      "\tTrain Loss: 0.228 | Train PPL:   1.256\n",
      "\t Val. Loss: 0.156 |  Val. PPL:   1.169\n",
      "Epoch: 39\n",
      "100%|██████████| 8/8 [00:08<00:00,  1.08s/it]\n",
      "100%|██████████| 8/8 [00:02<00:00,  4.09it/s]\n",
      "\tTrain Loss: 0.229 | Train PPL:   1.257\n",
      "\t Val. Loss: 0.153 |  Val. PPL:   1.165\n",
      "Epoch: 40\n",
      "100%|██████████| 8/8 [00:07<00:00,  1.16it/s]\n",
      "100%|██████████| 8/8 [00:01<00:00,  4.28it/s]\n",
      "\tTrain Loss: 0.220 | Train PPL:   1.247\n",
      "\t Val. Loss: 0.155 |  Val. PPL:   1.168\n",
      "Epoch: 41\n",
      "100%|██████████| 8/8 [00:07<00:00,  1.18it/s]\n",
      "100%|██████████| 8/8 [00:01<00:00,  4.36it/s]\n",
      "\tTrain Loss: 0.228 | Train PPL:   1.257\n",
      "\t Val. Loss: 0.153 |  Val. PPL:   1.165\n",
      "Epoch: 42\n",
      "100%|██████████| 8/8 [00:07<00:00,  1.16it/s]\n",
      "100%|██████████| 8/8 [00:01<00:00,  4.22it/s]\n",
      "\tTrain Loss: 0.218 | Train PPL:   1.244\n",
      "\t Val. Loss: 0.156 |  Val. PPL:   1.169\n",
      "Epoch: 43\n",
      "100%|██████████| 8/8 [00:07<00:00,  1.05it/s]\n",
      "100%|██████████| 8/8 [00:02<00:00,  3.98it/s]\n",
      "\tTrain Loss: 0.220 | Train PPL:   1.245\n",
      "\t Val. Loss: 0.154 |  Val. PPL:   1.166\n",
      "Epoch: 44\n",
      "100%|██████████| 8/8 [00:07<00:00,  1.06it/s]\n",
      "100%|██████████| 8/8 [00:02<00:00,  3.15it/s]\n",
      "\tTrain Loss: 0.225 | Train PPL:   1.253\n",
      "\t Val. Loss: 0.150 |  Val. PPL:   1.162\n",
      "Epoch: 45\n",
      "100%|██████████| 8/8 [00:07<00:00,  1.03it/s]\n",
      "100%|██████████| 8/8 [00:02<00:00,  4.07it/s]\n",
      "\tTrain Loss: 0.212 | Train PPL:   1.236\n",
      "\t Val. Loss: 0.157 |  Val. PPL:   1.170\n",
      "Epoch: 46\n"
     ]
    },
    {
     "name": "stdout",
     "output_type": "stream",
     "text": [
      "100%|██████████| 8/8 [00:08<00:00,  1.09s/it]\n",
      "100%|██████████| 8/8 [00:02<00:00,  3.29it/s]\n",
      "\tTrain Loss: 0.218 | Train PPL:   1.244\n",
      "\t Val. Loss: 0.147 |  Val. PPL:   1.159\n",
      "Epoch: 47\n",
      "100%|██████████| 8/8 [00:07<00:00,  1.08it/s]\n",
      "100%|██████████| 8/8 [00:02<00:00,  3.92it/s]\n",
      "\tTrain Loss: 0.213 | Train PPL:   1.237\n",
      "\t Val. Loss: 0.155 |  Val. PPL:   1.167\n",
      "Epoch: 48\n",
      "100%|██████████| 8/8 [00:07<00:00,  1.16it/s]\n",
      "100%|██████████| 8/8 [00:01<00:00,  4.32it/s]\n",
      "\tTrain Loss: 0.218 | Train PPL:   1.244\n",
      "\t Val. Loss: 0.152 |  Val. PPL:   1.164\n",
      "Epoch: 49\n",
      "100%|██████████| 8/8 [00:07<00:00,  1.17it/s]\n",
      "100%|██████████| 8/8 [00:02<00:00,  3.92it/s]\n",
      "\tTrain Loss: 0.215 | Train PPL:   1.240\n",
      "\t Val. Loss: 0.153 |  Val. PPL:   1.165\n",
      "Epoch: 50\n",
      "100%|██████████| 8/8 [00:06<00:00,  1.24it/s]\n",
      "100%|██████████| 8/8 [00:01<00:00,  4.45it/s]\n",
      "\tTrain Loss: 0.211 | Train PPL:   1.235\n",
      "\t Val. Loss: 0.153 |  Val. PPL:   1.165\n"
     ]
    }
   ],
   "source": [
    "N_EPOCHS = 50\n",
    "CLIP = 1\n",
    "\n",
    "# seq2seq.teacher_forcing = 1.0\n",
    "\n",
    "best_valid_loss = float('inf')\n",
    "\n",
    "for epoch in range(N_EPOCHS):\n",
    "    print(f'Epoch: {epoch+1:02}')\n",
    "    \n",
    "    train_loss = train(seq2seq, train_loader, optimizer, criterion, CLIP, src_vocab.PAD_token)\n",
    "    valid_loss = evaluate(seq2seq, train_loader, criterion)\n",
    "    \n",
    "    if valid_loss < best_valid_loss:\n",
    "        best_valid_loss = valid_loss\n",
    "        torch.save(seq2seq.state_dict(), 'models/seq2seq_conv.pt')\n",
    "    \n",
    "    print(f'\\tTrain Loss: {train_loss:.3f} | Train PPL: {math.exp(train_loss):7.3f}')\n",
    "    print(f'\\t Val. Loss: {valid_loss:.3f} |  Val. PPL: {math.exp(valid_loss):7.3f}')\n"
   ]
  },
  {
   "cell_type": "code",
   "execution_count": 97,
   "metadata": {},
   "outputs": [
    {
     "name": "stdout",
     "output_type": "stream",
     "text": [
      "tensor([[  2,  16, 145, 139,   9, 131, 988,   3,   4,   0,   0,   0,   0,   0,\n",
      "           0,   0,   0,   0,   0]])\n",
      "tensor([[  3,   7, 124, 112,   2,  27, 921, 922,   5,   4,   0,   0,   0,   0,\n",
      "           0,   0,   0,   0,   0,   0]])\n",
      "torch.Size([1, 20]) torch.Size([1, 20])\n",
      "['<sos> die dame hat eine schwarze umhangetasche . <eos>']\n",
      "['<sos> the lady has a black sling bag . <eos>']\n"
     ]
    }
   ],
   "source": [
    "idx = 286\n",
    "src_sentence = train_loader.dataset.tensors[0][idx:idx+1][:, :20]\n",
    "tgt_sentence = train_loader.dataset.tensors[1][idx:idx+1][:, :20]\n",
    "print(src_sentence[:, :19])\n",
    "print(tgt_sentence[:, :21])\n",
    "print(src_sentence.size(), tgt_sentence.size())\n",
    "print(src_vocab.to_string(src_sentence))\n",
    "print(tgt_vocab.to_string(tgt_sentence))\n",
    "m1, m2, m3 = create_masks(src_sentence, tgt_sentence, 0)\n",
    "out, attention = seq2seq(src_sentence, tgt_sentence, m1, m2, m3)"
   ]
  },
  {
   "cell_type": "code",
   "execution_count": 98,
   "metadata": {},
   "outputs": [
    {
     "data": {
      "text/plain": [
       "(torch.Size([1, 20, 10000]),\n",
       " dict_keys(['decoder_layer1_block1', 'decoder_layer1_block2']))"
      ]
     },
     "execution_count": 98,
     "metadata": {},
     "output_type": "execute_result"
    }
   ],
   "source": [
    "out.size(), attention.keys()"
   ]
  },
  {
   "cell_type": "code",
   "execution_count": 99,
   "metadata": {},
   "outputs": [
    {
     "data": {
      "text/plain": [
       "'the lady has a black sling bag . <eos> a full full full full full full full full full full'"
      ]
     },
     "execution_count": 99,
     "metadata": {},
     "output_type": "execute_result"
    }
   ],
   "source": [
    "translation = tgt_vocab.to_string(out.argmax(dim=-1))[0]\n",
    "translation"
   ]
  },
  {
   "cell_type": "code",
   "execution_count": 100,
   "metadata": {},
   "outputs": [
    {
     "data": {
      "text/plain": [
       "torch.Size([20, 20])"
      ]
     },
     "execution_count": 100,
     "metadata": {},
     "output_type": "execute_result"
    }
   ],
   "source": [
    "attention['decoder_layer1_block1'].squeeze(0).mean(dim=0).shape"
   ]
  },
  {
   "cell_type": "code",
   "execution_count": 104,
   "metadata": {},
   "outputs": [
    {
     "data": {
      "image/png": "[encoded data removed]",
      "text/plain": [
       "<Figure size 720x720 with 1 Axes>"
      ]
     },
     "metadata": {
      "needs_background": "light"
     },
     "output_type": "display_data"
    }
   ],
   "source": [
    "plot_attention(attention['decoder_layer1_block2'].squeeze(0).mean(0), src_vocab.to_string(src_sentence)[0], translation)"
   ]
  },
  {
   "cell_type": "code",
   "execution_count": 113,
   "metadata": {},
   "outputs": [],
   "source": [
    "def evaluate_translate(model, iterator, criterion, pad_tok=0):\n",
    "    model.eval()\n",
    "    epoch_loss = 0\n",
    "\n",
    "    with torch.no_grad():\n",
    "        for i, (src, tgt) in enumerate(tqdm(iterator, file=sys.stdout)):\n",
    "            # src.shape = (batch_size, src_seq_len)\n",
    "            # tgt.shape = (batch_size, tgt_seq_len)\n",
    "            src_mask = create_padding_mask(src, pad_tok)\n",
    "\n",
    "            if model.type == 'rnn':\n",
    "                output, attention = model(src, None, src_mask) #turn off teacher forcing\n",
    "                # output.shape == (batch_size, max_length, tgt_vocab_size)\n",
    "                # print(output)\n",
    "                # output = output[:, 1:, :]\n",
    "                tgt = tgt[:, 1:]\n",
    "            elif model.type == 'conv':\n",
    "                output, attention = model(src, None) #turn off teacher forcing\n",
    "                tgt = tgt[:, 1:]\n",
    "\n",
    "            loss = criterion(output, tgt) # masked loss automatically slices for you\n",
    "\n",
    "            epoch_loss += loss.item()\n",
    "\n",
    "    return epoch_loss / len(iterator)"
   ]
  },
  {
   "cell_type": "code",
   "execution_count": 114,
   "metadata": {},
   "outputs": [
    {
     "name": "stdout",
     "output_type": "stream",
     "text": [
      "\n",
      "\n",
      "\n",
      "\n",
      "\n",
      "  0%|          | 0/8 [00:00<?, ?it/s]\u001b[A\u001b[A\u001b[A\u001b[A\u001b[A\n",
      "\n",
      "\n",
      "\n",
      "\n",
      " 12%|█▎        | 1/8 [00:03<00:21,  3.12s/it]\u001b[A\u001b[A\u001b[A\u001b[A\u001b[A\n",
      "\n",
      "\n",
      "\n",
      "\n",
      " 25%|██▌       | 2/8 [00:06<00:19,  3.23s/it]\u001b[A\u001b[A\u001b[A\u001b[A\u001b[A\n",
      "\n",
      "\n",
      "\n",
      "\n",
      " 38%|███▊      | 3/8 [00:09<00:16,  3.23s/it]\u001b[A\u001b[A\u001b[A\u001b[A\u001b[A\n",
      "\n",
      "\n",
      "\n",
      "\n",
      " 50%|█████     | 4/8 [00:13<00:12,  3.23s/it]\u001b[A\u001b[A\u001b[A\u001b[A\u001b[A\n",
      "\n",
      "\n",
      "\n",
      "\n",
      " 62%|██████▎   | 5/8 [00:16<00:09,  3.20s/it]\u001b[A\u001b[A\u001b[A\u001b[A\u001b[A\n",
      "\n",
      "\n",
      "\n",
      "\n",
      " 75%|███████▌  | 6/8 [00:19<00:06,  3.18s/it]\u001b[A\u001b[A\u001b[A\u001b[A\u001b[A\n",
      "\n",
      "\n",
      "\n",
      "\n",
      " 88%|████████▊ | 7/8 [00:22<00:03,  3.18s/it]\u001b[A\u001b[A\u001b[A\u001b[A\u001b[A\n",
      "\n",
      "\n",
      "\n",
      "\n",
      "100%|██████████| 8/8 [00:25<00:00,  2.98s/it]\u001b[A\u001b[A\u001b[A\u001b[A\u001b[A"
     ]
    }
   ],
   "source": [
    "valid_loss = evaluate_translate(seq2seq, train_loader, criterion)"
   ]
  },
  {
   "cell_type": "code",
   "execution_count": 119,
   "metadata": {},
   "outputs": [
    {
     "data": {
      "text/plain": [
       "(0.8958491086959839, 2.4494147260598007)"
      ]
     },
     "execution_count": 119,
     "metadata": {},
     "output_type": "execute_result"
    }
   ],
   "source": [
    "valid_loss, math.exp(valid_loss)"
   ]
  },
  {
   "cell_type": "code",
   "execution_count": 153,
   "metadata": {},
   "outputs": [],
   "source": [
    "idx = 0\n",
    "\n",
    "src_sentence = train_loader.dataset.tensors[0][idx:idx+1]\n",
    "tgt_sentence = train_loader.dataset.tensors[1][idx:idx+1]\n",
    "\n",
    "src_sentence = src_vocab.to_string(src_sentence, remove_special=True)[0]\n",
    "tgt_sentence = tgt_vocab.to_string(tgt_sentence, remove_special=True)[0]"
   ]
  },
  {
   "cell_type": "code",
   "execution_count": 154,
   "metadata": {},
   "outputs": [
    {
     "name": "stdout",
     "output_type": "stream",
     "text": [
      "tensor([[  2,  19,  21,  29,  32,  35, 146,  17,  57,   8,  15,  58, 478, 479,\n",
      "           3,   4]])\n",
      "tensor([[35, 22,  5,  4,  5,  4,  5,  5,  4,  5,  5,  4,  4,  4,  4,  4,  4,  4,\n",
      "          4,  4,  4,  4,  4,  4,  4,  4,  4,  4,  4,  4,  4,  4,  4,  4,  4,  4,\n",
      "          4,  4,  4,  4,  4,  4,  4,  4,  4,  4,  4,  4,  4]])\n"
     ]
    }
   ],
   "source": [
    "translation, attention = translate(src_sentence, seq2seq, src_vocab, tgt_vocab, src_vocab.PAD_token)"
   ]
  },
  {
   "cell_type": "code",
   "execution_count": 155,
   "metadata": {},
   "outputs": [
    {
     "name": "stdout",
     "output_type": "stream",
     "text": [
      "> zwei junge wei e manner sind im freien in der nahe vieler busche .\n",
      "= two young , white males are outside near many bushes .\n",
      "< men boy . . . . . .\n"
     ]
    }
   ],
   "source": [
    "print(f\"> {src_sentence}\")\n",
    "print(f\"= {tgt_sentence}\")\n",
    "print(f\"< {translation}\")"
   ]
  },
  {
   "cell_type": "code",
   "execution_count": 156,
   "metadata": {},
   "outputs": [
    {
     "data": {
      "text/plain": [
       "0"
      ]
     },
     "execution_count": 156,
     "metadata": {},
     "output_type": "execute_result"
    }
   ],
   "source": [
    "src_vocab.PAD_token"
   ]
  },
  {
   "cell_type": "code",
   "execution_count": 157,
   "metadata": {},
   "outputs": [
    {
     "data": {
      "image/png": "[encoded data removed]",
      "text/plain": [
       "<Figure size 720x720 with 1 Axes>"
      ]
     },
     "metadata": {
      "needs_background": "light"
     },
     "output_type": "display_data"
    }
   ],
   "source": [
    "plot_attention(attention, src_sentence, translation)"
   ]
  },
  {
   "cell_type": "code",
   "execution_count": 55,
   "metadata": {},
   "outputs": [
    {
     "data": {
      "text/plain": [
       "tensor([[4.3664e-11, 1.0312e-04, 1.2130e-21, 3.2909e-11, 1.0098e-01, 4.4736e-09,\n",
       "         1.2194e-10, 8.9715e-10, 2.9493e-08, 2.2802e-06, 3.1995e-07, 1.0730e-09,\n",
       "         5.1280e-10, 8.9890e-01, 1.6924e-05],\n",
       "        [1.2821e-07, 2.2048e-11, 2.5935e-09, 8.2775e-04, 9.6637e-01, 1.8144e-03,\n",
       "         3.6247e-08, 2.3610e-04, 2.4396e-05, 4.4837e-04, 2.9789e-02, 6.7302e-11,\n",
       "         3.1570e-04, 1.6431e-04, 1.5167e-10],\n",
       "        [9.7672e-09, 6.2471e-34, 8.9530e-07, 1.5813e-14, 3.4575e-20, 6.9667e-19,\n",
       "         5.8963e-15, 1.4152e-18, 6.0852e-06, 5.0482e-12, 5.8400e-28, 2.9403e-39,\n",
       "         4.2869e-13, 4.5173e-11, 9.9999e-01],\n",
       "        [3.0974e-24, 6.0256e-44, 0.0000e+00, 3.3918e-30, 1.8024e-25, 8.6161e-30,\n",
       "         1.4547e-22, 8.9977e-25, 8.0511e-24, 3.4063e-20, 2.0275e-40, 0.0000e+00,\n",
       "         2.0891e-32, 7.1727e-18, 1.0000e+00],\n",
       "        [8.9777e-29, 0.0000e+00, 0.0000e+00, 1.0618e-32, 7.0668e-37, 3.0974e-39,\n",
       "         2.0014e-30, 1.1380e-33, 3.5251e-30, 6.0993e-26, 0.0000e+00, 0.0000e+00,\n",
       "         2.3035e-35, 5.8863e-25, 1.0000e+00],\n",
       "        [2.3068e-19, 4.8090e-38, 3.3242e-25, 2.0777e-25, 3.3061e-21, 2.7908e-20,\n",
       "         6.0246e-17, 6.1876e-18, 2.0184e-16, 6.0058e-17, 2.6551e-38, 1.3525e-38,\n",
       "         1.3364e-22, 6.1765e-14, 1.0000e+00],\n",
       "        [8.2927e-30, 0.0000e+00, 1.0650e-43, 5.6893e-43, 3.6814e-37, 9.4699e-40,\n",
       "         8.1805e-32, 9.7110e-43, 7.0610e-33, 3.0667e-29, 0.0000e+00, 0.0000e+00,\n",
       "         4.9073e-42, 9.9286e-27, 1.0000e+00],\n",
       "        [1.7403e-34, 0.0000e+00, 0.0000e+00, 6.4268e-36, 2.4191e-38, 3.8271e-40,\n",
       "         9.1159e-36, 8.5954e-36, 2.3243e-34, 9.2645e-31, 0.0000e+00, 0.0000e+00,\n",
       "         3.6189e-35, 2.3873e-29, 1.0000e+00],\n",
       "        [3.4026e-24, 0.0000e+00, 4.6494e-41, 8.7443e-31, 1.4758e-29, 2.8305e-26,\n",
       "         1.1087e-22, 1.4599e-26, 4.6644e-25, 4.3344e-21, 0.0000e+00, 0.0000e+00,\n",
       "         2.4369e-28, 3.8863e-21, 1.0000e+00],\n",
       "        [7.2791e-26, 0.0000e+00, 0.0000e+00, 5.7198e-35, 4.6198e-23, 1.2014e-27,\n",
       "         6.7704e-24, 1.3433e-34, 4.1503e-28, 9.9995e-23, 0.0000e+00, 0.0000e+00,\n",
       "         5.7066e-35, 1.3590e-19, 1.0000e+00],\n",
       "        [4.1151e-18, 0.0000e+00, 1.0594e-40, 2.1315e-20, 1.4336e-18, 4.9150e-23,\n",
       "         3.3135e-21, 4.9244e-29, 6.3122e-21, 2.0393e-16, 3.4520e-37, 0.0000e+00,\n",
       "         2.1744e-24, 4.4342e-12, 1.0000e+00],\n",
       "        [5.6816e-08, 5.4527e-28, 1.4655e-21, 4.3951e-15, 6.6437e-12, 3.0120e-08,\n",
       "         2.8635e-10, 1.2669e-12, 5.1030e-11, 2.2638e-11, 4.8484e-25, 1.0053e-30,\n",
       "         8.9869e-15, 2.1033e-10, 1.0000e+00],\n",
       "        [1.2865e-09, 5.1973e-26, 5.4466e-28, 1.7447e-09, 9.3543e-07, 2.9193e-06,\n",
       "         3.2103e-05, 1.4485e-15, 2.0995e-08, 1.6247e-04, 6.5196e-15, 3.5046e-13,\n",
       "         6.7415e-10, 1.8600e-03, 9.9794e-01],\n",
       "        [1.5411e-12, 0.0000e+00, 1.5144e-33, 4.3780e-17, 6.9040e-06, 3.3462e-05,\n",
       "         3.4974e-12, 2.5646e-23, 7.8245e-13, 4.3299e-07, 8.5575e-28, 3.9998e-37,\n",
       "         2.3091e-14, 2.6916e-09, 9.9996e-01],\n",
       "        [9.7063e-12, 7.9140e-34, 1.9793e-23, 1.7953e-16, 1.8471e-04, 1.0775e-03,\n",
       "         3.2006e-04, 3.7588e-18, 6.5243e-06, 3.3335e-04, 9.8744e-20, 5.0934e-21,\n",
       "         1.0955e-11, 2.0120e-04, 9.9787e-01],\n",
       "        [2.8021e-06, 9.0713e-32, 1.1168e-22, 1.8852e-14, 1.1319e-01, 1.1720e-02,\n",
       "         2.1453e-04, 6.4433e-18, 2.3271e-08, 8.9521e-04, 9.1683e-21, 7.6099e-21,\n",
       "         1.1816e-11, 1.4260e-04, 7.9278e-02],\n",
       "        [8.0943e-14, 7.0001e-35, 1.4653e-29, 8.9785e-24, 5.8065e-05, 2.2452e-07,\n",
       "         1.7462e-07, 1.6474e-21, 2.5989e-08, 1.2256e-07, 1.2523e-28, 6.6775e-30,\n",
       "         7.8331e-20, 6.9065e-05, 9.9987e-01],\n",
       "        [3.3781e-09, 1.3491e-24, 3.4482e-19, 8.4912e-15, 7.3255e-03, 9.1698e-01,\n",
       "         1.0905e-02, 5.3986e-15, 1.5105e-04, 1.2166e-02, 2.3862e-16, 1.9585e-13,\n",
       "         5.3369e-11, 7.5445e-04, 7.6128e-03],\n",
       "        [8.1737e-13, 2.8891e-40, 1.3668e-35, 1.2314e-16, 3.9472e-08, 1.2538e-09,\n",
       "         1.2303e-09, 2.8127e-21, 5.3179e-12, 2.5695e-06, 1.8739e-24, 2.2983e-28,\n",
       "         3.9401e-15, 1.8168e-07, 1.0000e+00],\n",
       "        [4.3195e-14, 0.0000e+00, 1.2439e-35, 3.3654e-19, 1.6771e-05, 6.3347e-06,\n",
       "         2.4489e-10, 1.8349e-29, 8.3886e-11, 2.3264e-06, 1.0960e-30, 8.6905e-40,\n",
       "         6.5156e-18, 1.5489e-09, 9.9997e-01],\n",
       "        [1.1387e-12, 0.0000e+00, 1.5134e-38, 2.2658e-20, 6.2496e-04, 3.4097e-05,\n",
       "         3.4529e-06, 2.3623e-29, 1.8058e-09, 2.1305e-04, 7.1624e-36, 1.6118e-38,\n",
       "         2.9068e-17, 7.5757e-05, 9.9904e-01],\n",
       "        [3.7863e-12, 0.0000e+00, 5.6596e-38, 3.0210e-23, 5.0268e-02, 1.4052e-04,\n",
       "         4.8416e-05, 1.1508e-25, 2.0864e-10, 3.0742e-03, 7.0394e-35, 6.5402e-38,\n",
       "         5.3996e-17, 3.1992e-07, 9.4647e-01],\n",
       "        [6.3822e-10, 0.0000e+00, 8.3255e-29, 1.0268e-20, 3.7128e-07, 2.8149e-06,\n",
       "         1.1815e-06, 1.6982e-25, 1.3850e-07, 6.2953e-05, 6.2972e-33, 2.3921e-36,\n",
       "         5.5318e-16, 7.5934e-08, 9.9990e-01]])"
      ]
     },
     "execution_count": 55,
     "metadata": {},
     "output_type": "execute_result"
    }
   ],
   "source": [
    "attention"
   ]
  },
  {
   "cell_type": "code",
   "execution_count": null,
   "metadata": {},
   "outputs": [],
   "source": [
    "# valid_loss = evaluate(seq2seq, valid_loader, criterion)"
   ]
  },
  {
   "cell_type": "code",
   "execution_count": null,
   "metadata": {},
   "outputs": [],
   "source": []
  },
  {
   "cell_type": "code",
   "execution_count": null,
   "metadata": {},
   "outputs": [],
   "source": []
  },
  {
   "cell_type": "code",
   "execution_count": null,
   "metadata": {},
   "outputs": [],
   "source": []
  },
  {
   "cell_type": "code",
   "execution_count": null,
   "metadata": {},
   "outputs": [],
   "source": []
  },
  {
   "cell_type": "code",
   "execution_count": null,
   "metadata": {},
   "outputs": [],
   "source": []
  },
  {
   "cell_type": "code",
   "execution_count": null,
   "metadata": {},
   "outputs": [],
   "source": []
  },
  {
   "cell_type": "code",
   "execution_count": null,
   "metadata": {},
   "outputs": [],
   "source": []
  },
  {
   "cell_type": "code",
   "execution_count": null,
   "metadata": {},
   "outputs": [],
   "source": []
  },
  {
   "cell_type": "code",
   "execution_count": null,
   "metadata": {},
   "outputs": [],
   "source": []
  },
  {
   "cell_type": "code",
   "execution_count": null,
   "metadata": {},
   "outputs": [],
   "source": []
  },
  {
   "cell_type": "code",
   "execution_count": null,
   "metadata": {},
   "outputs": [],
   "source": []
  },
  {
   "cell_type": "code",
   "execution_count": null,
   "metadata": {},
   "outputs": [],
   "source": []
  },
  {
   "cell_type": "code",
   "execution_count": null,
   "metadata": {},
   "outputs": [],
   "source": []
  }
 ],
 "metadata": {
  "kernelspec": {
   "display_name": "Python 3",
   "language": "python",
   "name": "python3"
  },
  "language_info": {
   "codemirror_mode": {
    "name": "ipython",
    "version": 3
   },
   "file_extension": ".py",
   "mimetype": "text/x-python",
   "name": "python",
   "nbconvert_exporter": "python",
   "pygments_lexer": "ipython3",
   "version": "3.7.3"
  }
 },
 "nbformat": 4,
 "nbformat_minor": 2
}
