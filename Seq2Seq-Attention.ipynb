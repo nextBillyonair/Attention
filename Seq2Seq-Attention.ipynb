{
 "cells": [
  {
   "cell_type": "code",
   "execution_count": 5,
   "metadata": {},
   "outputs": [],
   "source": [
    "from src.seq2seq import *\n",
    "from src.attention import *\n",
    "from src.utils import *\n",
    "from src.layers import MaskedCrossEntropyLoss\n",
    "import torch \n",
    "import torch.optim as optim\n",
    "import random"
   ]
  },
  {
   "cell_type": "markdown",
   "metadata": {},
   "source": [
    "# Setup"
   ]
  },
  {
   "cell_type": "code",
   "execution_count": 6,
   "metadata": {},
   "outputs": [],
   "source": [
    "# OPTIONS: \n",
    "# ENGLISH - en, \n",
    "# GERMAN - de, \n",
    "# FRENCH - fr, \n",
    "# CZECH - cs\n",
    "\n",
    "lang1 = 'en'\n",
    "lang2 = 'en'\n",
    "\n",
    "train_sentences, test_sentences = load_data(lang1, lang2)\n",
    "train_sentences = (train_sentences[0][:500], train_sentences[1][:500])"
   ]
  },
  {
   "cell_type": "code",
   "execution_count": 7,
   "metadata": {},
   "outputs": [],
   "source": [
    "TEST_SIZE=0.2\n",
    "BATCH_SIZE=64\n",
    "VALID_BATCH_SIZE=128\n",
    "MAX_VOCAB=20000\n",
    "\n",
    "src_vocab, tgt_vocab, train_loader, valid_loader = make_dataset(train_sentences, test_sentences, BATCH_SIZE, VALID_BATCH_SIZE, MAX_VOCAB)"
   ]
  },
  {
   "cell_type": "code",
   "execution_count": 8,
   "metadata": {},
   "outputs": [
    {
     "name": "stdout",
     "output_type": "stream",
     "text": [
      "Number of training examples: 500\n",
      "Number of validation examples: 1014\n",
      "Training Batches 8\tValidation Batches 8\n"
     ]
    }
   ],
   "source": [
    "print(f\"Number of training examples: {len(train_loader.dataset)}\")\n",
    "print(f\"Number of validation examples: {len(valid_loader.dataset)}\")\n",
    "print(f\"Training Batches {len(train_loader)}\\tValidation Batches {len(valid_loader)}\")"
   ]
  },
  {
   "cell_type": "code",
   "execution_count": 9,
   "metadata": {},
   "outputs": [
    {
     "name": "stdout",
     "output_type": "stream",
     "text": [
      "Unique tokens in source (en) vocabulary: 1224\n",
      "Unique tokens in target (en) vocabulary: 1224\n"
     ]
    }
   ],
   "source": [
    "print(f\"Unique tokens in source ({lang1}) vocabulary: {len(src_vocab)}\")\n",
    "print(f\"Unique tokens in target ({lang2}) vocabulary: {len(tgt_vocab)}\")"
   ]
  },
  {
   "cell_type": "markdown",
   "metadata": {},
   "source": [
    "# Make the Model"
   ]
  },
  {
   "cell_type": "code",
   "execution_count": 10,
   "metadata": {},
   "outputs": [],
   "source": [
    "# ENCODER ARGS\n",
    "ENC_UNITS = 128\n",
    "ENC_EMBEDDING = 128\n",
    "SRC_VOCAB_SIZE = len(src_vocab)\n",
    "ENC_NUM_LAYERS = 1\n",
    "\n",
    "# ATTENTION DECODER ARGS\n",
    "DEC_UNITS = ENC_UNITS\n",
    "DEC_EMBEDDING = ENC_EMBEDDING\n",
    "TGT_VOCAB_SIZE = len(tgt_vocab)\n",
    "DEC_NUM_LAYERS = ENC_NUM_LAYERS\n",
    "'''\n",
    "Choices = [\n",
    "    ConcatAttention, GeneralAttention, \n",
    "    DotAttention, MeanAttention, LastInSeqAttention\n",
    "]\n",
    "'''\n",
    "ATTN_LAYER = ConcatAttention\n",
    "ATTN_HIDDEN_SIZE = 512\n",
    "\n",
    "# SEQ2SEQ ARGS\n",
    "TEACHER_FORCING = 0.\n",
    "MAX_LENGTH = train_loader.dataset.tensors[1].size(-1) + 1\n",
    "SOS_TOKEN = tgt_vocab.SOS_token"
   ]
  },
  {
   "cell_type": "code",
   "execution_count": 11,
   "metadata": {},
   "outputs": [
    {
     "name": "stdout",
     "output_type": "stream",
     "text": [
      "The model has 850,632 trainable parameters\n"
     ]
    }
   ],
   "source": [
    "encoder = Encoder(ENC_UNITS, ENC_EMBEDDING, SRC_VOCAB_SIZE, ENC_NUM_LAYERS)\n",
    "decoder = AttentionDecoder(DEC_UNITS, DEC_EMBEDDING, TGT_VOCAB_SIZE, DEC_NUM_LAYERS, ATTN_LAYER, ATTN_HIDDEN_SIZE)\n",
    "\n",
    "seq2seq = Seq2Seq(encoder, decoder, TEACHER_FORCING, MAX_LENGTH, SOS_TOKEN)\n",
    "\n",
    "print(f'The model has {count_parameters(seq2seq):,} trainable parameters')"
   ]
  },
  {
   "cell_type": "code",
   "execution_count": 12,
   "metadata": {},
   "outputs": [
    {
     "name": "stdout",
     "output_type": "stream",
     "text": [
      "Seq2Seq(\n",
      "  (encoder): Encoder(\n",
      "    (embedding): Embedding(1224, 128)\n",
      "    (gru): GRU(128, 128, batch_first=True)\n",
      "  )\n",
      "  (decoder): AttentionDecoder(\n",
      "    (embedding): Embedding(1224, 128)\n",
      "    (gru): GRU(256, 128, batch_first=True)\n",
      "    (attention): ConcatAttention(\n",
      "      (W_a): Linear(in_features=256, out_features=512, bias=True)\n",
      "      (v_a): Linear(in_features=512, out_features=1, bias=False)\n",
      "    )\n",
      "    (fc): Linear(in_features=128, out_features=1224, bias=True)\n",
      "  )\n",
      ")\n"
     ]
    }
   ],
   "source": [
    "print(seq2seq)"
   ]
  },
  {
   "cell_type": "code",
   "execution_count": 13,
   "metadata": {},
   "outputs": [],
   "source": [
    "criterion = MaskedCrossEntropyLoss(pad_tok=tgt_vocab.PAD_token)\n",
    "optimizer = optim.Adam(seq2seq.parameters())"
   ]
  },
  {
   "cell_type": "markdown",
   "metadata": {},
   "source": [
    "# Train"
   ]
  },
  {
   "cell_type": "code",
   "execution_count": 300,
   "metadata": {
    "scrolled": false
   },
   "outputs": [
    {
     "name": "stdout",
     "output_type": "stream",
     "text": [
      "\n",
      "  0%|          | 0/8 [00:00<?, ?it/s]\u001b[A\n",
      " 12%|█▎        | 1/8 [00:00<00:06,  1.00it/s]\u001b[A\n",
      " 25%|██▌       | 2/8 [00:02<00:06,  1.01s/it]\u001b[A\n",
      " 38%|███▊      | 3/8 [00:02<00:04,  1.02it/s]\u001b[A\n",
      " 50%|█████     | 4/8 [00:03<00:03,  1.07it/s]\u001b[A\n",
      " 62%|██████▎   | 5/8 [00:04<00:02,  1.11it/s]\u001b[A\n",
      " 75%|███████▌  | 6/8 [00:05<00:01,  1.14it/s]\u001b[A\n",
      " 88%|████████▊ | 7/8 [00:06<00:00,  1.16it/s]\u001b[A\n",
      "100%|██████████| 8/8 [00:07<00:00,  1.20it/s]\u001b[A"
     ]
    }
   ],
   "source": [
    "valid_loss = evaluate(seq2seq, valid_loader, criterion)"
   ]
  },
  {
   "cell_type": "code",
   "execution_count": 301,
   "metadata": {},
   "outputs": [
    {
     "data": {
      "text/plain": [
       "3.964473694562912"
      ]
     },
     "execution_count": 301,
     "metadata": {},
     "output_type": "execute_result"
    }
   ],
   "source": [
    "valid_loss"
   ]
  },
  {
   "cell_type": "code",
   "execution_count": 259,
   "metadata": {
    "scrolled": false
   },
   "outputs": [
    {
     "name": "stdout",
     "output_type": "stream",
     "text": [
      "Epoch: 01\n",
      "100%|██████████| 8/8 [00:14<00:00,  1.70s/it]\n",
      "100%|██████████| 8/8 [00:04<00:00,  1.99it/s]\n",
      "\tTrain Loss: 0.021 | Train PPL:   1.021\n",
      "\t Val. Loss: 0.020 |  Val. PPL:   1.020\n",
      "Epoch: 02\n",
      "100%|██████████| 8/8 [00:13<00:00,  1.62s/it]\n",
      "100%|██████████| 8/8 [00:04<00:00,  2.09it/s]\n",
      "\tTrain Loss: 0.020 | Train PPL:   1.020\n",
      "\t Val. Loss: 0.019 |  Val. PPL:   1.020\n",
      "Epoch: 03\n",
      "100%|██████████| 8/8 [00:13<00:00,  1.67s/it]\n",
      "100%|██████████| 8/8 [00:03<00:00,  2.16it/s]\n",
      "\tTrain Loss: 0.019 | Train PPL:   1.020\n",
      "\t Val. Loss: 0.019 |  Val. PPL:   1.019\n",
      "Epoch: 04\n",
      "100%|██████████| 8/8 [00:13<00:00,  1.65s/it]\n",
      "100%|██████████| 8/8 [00:03<00:00,  2.16it/s]\n",
      "\tTrain Loss: 0.019 | Train PPL:   1.019\n",
      "\t Val. Loss: 0.019 |  Val. PPL:   1.019\n",
      "Epoch: 05\n",
      "100%|██████████| 8/8 [00:13<00:00,  1.62s/it]\n",
      "100%|██████████| 8/8 [00:03<00:00,  2.16it/s]\n",
      "\tTrain Loss: 0.018 | Train PPL:   1.019\n",
      "\t Val. Loss: 0.018 |  Val. PPL:   1.018\n",
      "Epoch: 06\n",
      "100%|██████████| 8/8 [00:13<00:00,  1.62s/it]\n",
      "100%|██████████| 8/8 [00:03<00:00,  2.16it/s]\n",
      "\tTrain Loss: 0.018 | Train PPL:   1.018\n",
      "\t Val. Loss: 0.018 |  Val. PPL:   1.018\n",
      "Epoch: 07\n",
      "100%|██████████| 8/8 [00:13<00:00,  1.66s/it]\n",
      "100%|██████████| 8/8 [00:03<00:00,  2.10it/s]\n",
      "\tTrain Loss: 0.018 | Train PPL:   1.018\n",
      "\t Val. Loss: 0.017 |  Val. PPL:   1.018\n",
      "Epoch: 08\n",
      "100%|██████████| 8/8 [00:13<00:00,  1.63s/it]\n",
      "100%|██████████| 8/8 [00:03<00:00,  2.15it/s]\n",
      "\tTrain Loss: 0.017 | Train PPL:   1.017\n",
      "\t Val. Loss: 0.017 |  Val. PPL:   1.017\n",
      "Epoch: 09\n",
      "100%|██████████| 8/8 [00:13<00:00,  1.63s/it]\n",
      "100%|██████████| 8/8 [00:03<00:00,  2.15it/s]\n",
      "\tTrain Loss: 0.017 | Train PPL:   1.017\n",
      "\t Val. Loss: 0.017 |  Val. PPL:   1.017\n",
      "Epoch: 10\n",
      "100%|██████████| 8/8 [00:12<00:00,  1.55s/it]\n",
      "100%|██████████| 8/8 [00:03<00:00,  2.04it/s]\n",
      "\tTrain Loss: 0.017 | Train PPL:   1.017\n",
      "\t Val. Loss: 0.017 |  Val. PPL:   1.017\n",
      "Epoch: 11\n",
      "100%|██████████| 8/8 [00:13<00:00,  1.64s/it]\n",
      "100%|██████████| 8/8 [00:03<00:00,  2.15it/s]\n",
      "\tTrain Loss: 0.016 | Train PPL:   1.017\n",
      "\t Val. Loss: 0.016 |  Val. PPL:   1.016\n",
      "Epoch: 12\n",
      "100%|██████████| 8/8 [00:13<00:00,  1.63s/it]\n",
      "100%|██████████| 8/8 [00:03<00:00,  2.15it/s]\n",
      "\tTrain Loss: 0.016 | Train PPL:   1.016\n",
      "\t Val. Loss: 0.016 |  Val. PPL:   1.016\n",
      "Epoch: 13\n",
      "100%|██████████| 8/8 [00:13<00:00,  1.63s/it]\n",
      "100%|██████████| 8/8 [00:03<00:00,  2.14it/s]\n",
      "\tTrain Loss: 0.016 | Train PPL:   1.016\n",
      "\t Val. Loss: 0.016 |  Val. PPL:   1.016\n",
      "Epoch: 14\n",
      "100%|██████████| 8/8 [00:13<00:00,  1.63s/it]\n",
      "100%|██████████| 8/8 [00:03<00:00,  2.13it/s]\n",
      "\tTrain Loss: 0.016 | Train PPL:   1.016\n",
      "\t Val. Loss: 0.015 |  Val. PPL:   1.015\n",
      "Epoch: 15\n",
      "100%|██████████| 8/8 [00:13<00:00,  1.62s/it]\n",
      "100%|██████████| 8/8 [00:03<00:00,  2.15it/s]\n",
      "\tTrain Loss: 0.015 | Train PPL:   1.015\n",
      "\t Val. Loss: 0.015 |  Val. PPL:   1.015\n",
      "Epoch: 16\n",
      "100%|██████████| 8/8 [00:13<00:00,  1.63s/it]\n",
      "100%|██████████| 8/8 [00:03<00:00,  2.15it/s]\n",
      "\tTrain Loss: 0.015 | Train PPL:   1.015\n",
      "\t Val. Loss: 0.015 |  Val. PPL:   1.015\n",
      "Epoch: 17\n",
      "100%|██████████| 8/8 [00:12<00:00,  1.54s/it]\n",
      "100%|██████████| 8/8 [00:04<00:00,  2.02it/s]\n",
      "\tTrain Loss: 0.015 | Train PPL:   1.015\n",
      "\t Val. Loss: 0.015 |  Val. PPL:   1.015\n",
      "Epoch: 18\n",
      "100%|██████████| 8/8 [00:13<00:00,  1.62s/it]\n",
      "100%|██████████| 8/8 [00:04<00:00,  1.86it/s]\n",
      "\tTrain Loss: 0.015 | Train PPL:   1.015\n",
      "\t Val. Loss: 0.014 |  Val. PPL:   1.015\n",
      "Epoch: 19\n",
      "100%|██████████| 8/8 [00:13<00:00,  1.65s/it]\n",
      "100%|██████████| 8/8 [00:03<00:00,  2.15it/s]\n",
      "\tTrain Loss: 0.014 | Train PPL:   1.014\n",
      "\t Val. Loss: 0.014 |  Val. PPL:   1.014\n",
      "Epoch: 20\n",
      "100%|██████████| 8/8 [00:13<00:00,  1.63s/it]\n",
      "100%|██████████| 8/8 [00:03<00:00,  2.14it/s]\n",
      "\tTrain Loss: 0.014 | Train PPL:   1.014\n",
      "\t Val. Loss: 0.014 |  Val. PPL:   1.014\n",
      "Epoch: 21\n",
      "100%|██████████| 8/8 [00:13<00:00,  1.64s/it]\n",
      "100%|██████████| 8/8 [00:03<00:00,  2.14it/s]\n",
      "\tTrain Loss: 0.014 | Train PPL:   1.014\n",
      "\t Val. Loss: 0.014 |  Val. PPL:   1.014\n",
      "Epoch: 22\n",
      "100%|██████████| 8/8 [00:14<00:00,  1.63s/it]\n",
      "100%|██████████| 8/8 [00:04<00:00,  1.90it/s]\n",
      "\tTrain Loss: 0.014 | Train PPL:   1.014\n",
      "\t Val. Loss: 0.013 |  Val. PPL:   1.014\n",
      "Epoch: 23\n",
      "100%|██████████| 8/8 [00:14<00:00,  1.78s/it]\n",
      "100%|██████████| 8/8 [00:04<00:00,  2.09it/s]\n",
      "\tTrain Loss: 0.014 | Train PPL:   1.014\n",
      "\t Val. Loss: 0.013 |  Val. PPL:   1.013\n",
      "Epoch: 24\n",
      " 62%|██████▎   | 5/8 [00:09<00:05,  1.85s/it]"
     ]
    },
    {
     "ename": "KeyboardInterrupt",
     "evalue": "",
     "output_type": "error",
     "traceback": [
      "\u001b[0;31m---------------------------------------------------------------------------\u001b[0m",
      "\u001b[0;31mKeyboardInterrupt\u001b[0m                         Traceback (most recent call last)",
      "\u001b[0;32m<ipython-input-259-6a0a85355b45>\u001b[0m in \u001b[0;36m<module>\u001b[0;34m()\u001b[0m\n\u001b[1;32m      9\u001b[0m     \u001b[0mprint\u001b[0m\u001b[0;34m(\u001b[0m\u001b[0;34mf'Epoch: {epoch+1:02}'\u001b[0m\u001b[0;34m)\u001b[0m\u001b[0;34m\u001b[0m\u001b[0;34m\u001b[0m\u001b[0m\n\u001b[1;32m     10\u001b[0m \u001b[0;34m\u001b[0m\u001b[0m\n\u001b[0;32m---> 11\u001b[0;31m     \u001b[0mtrain_loss\u001b[0m \u001b[0;34m=\u001b[0m \u001b[0mtrain\u001b[0m\u001b[0;34m(\u001b[0m\u001b[0mseq2seq\u001b[0m\u001b[0;34m,\u001b[0m \u001b[0mtrain_loader\u001b[0m\u001b[0;34m,\u001b[0m \u001b[0moptimizer\u001b[0m\u001b[0;34m,\u001b[0m \u001b[0mcriterion\u001b[0m\u001b[0;34m,\u001b[0m \u001b[0mCLIP\u001b[0m\u001b[0;34m,\u001b[0m \u001b[0msrc_vocab\u001b[0m\u001b[0;34m.\u001b[0m\u001b[0mPAD_token\u001b[0m\u001b[0;34m)\u001b[0m\u001b[0;34m\u001b[0m\u001b[0;34m\u001b[0m\u001b[0m\n\u001b[0m\u001b[1;32m     12\u001b[0m \u001b[0;31m#     valid_loss = evaluate(seq2seq, valid_loader, criterion)\u001b[0m\u001b[0;34m\u001b[0m\u001b[0;34m\u001b[0m\u001b[0;34m\u001b[0m\u001b[0m\n\u001b[1;32m     13\u001b[0m     \u001b[0mvalid_loss\u001b[0m \u001b[0;34m=\u001b[0m \u001b[0mevaluate\u001b[0m\u001b[0;34m(\u001b[0m\u001b[0mseq2seq\u001b[0m\u001b[0;34m,\u001b[0m \u001b[0mtrain_loader\u001b[0m\u001b[0;34m,\u001b[0m \u001b[0mcriterion\u001b[0m\u001b[0;34m)\u001b[0m\u001b[0;34m\u001b[0m\u001b[0;34m\u001b[0m\u001b[0m\n",
      "\u001b[0;32m~/Documents/Attention/src/utils.py\u001b[0m in \u001b[0;36mtrain\u001b[0;34m(model, iterator, optimizer, criterion, clip, pad_tok)\u001b[0m\n\u001b[1;32m    137\u001b[0m \u001b[0;34m\u001b[0m\u001b[0m\n\u001b[1;32m    138\u001b[0m \u001b[0;34m\u001b[0m\u001b[0m\n\u001b[0;32m--> 139\u001b[0;31m         \u001b[0mloss\u001b[0m\u001b[0;34m.\u001b[0m\u001b[0mbackward\u001b[0m\u001b[0;34m(\u001b[0m\u001b[0;34m)\u001b[0m\u001b[0;34m\u001b[0m\u001b[0;34m\u001b[0m\u001b[0m\n\u001b[0m\u001b[1;32m    140\u001b[0m         \u001b[0mtorch\u001b[0m\u001b[0;34m.\u001b[0m\u001b[0mnn\u001b[0m\u001b[0;34m.\u001b[0m\u001b[0mutils\u001b[0m\u001b[0;34m.\u001b[0m\u001b[0mclip_grad_norm_\u001b[0m\u001b[0;34m(\u001b[0m\u001b[0mmodel\u001b[0m\u001b[0;34m.\u001b[0m\u001b[0mparameters\u001b[0m\u001b[0;34m(\u001b[0m\u001b[0;34m)\u001b[0m\u001b[0;34m,\u001b[0m \u001b[0mclip\u001b[0m\u001b[0;34m)\u001b[0m\u001b[0;34m\u001b[0m\u001b[0;34m\u001b[0m\u001b[0m\n\u001b[1;32m    141\u001b[0m \u001b[0;34m\u001b[0m\u001b[0m\n",
      "\u001b[0;32m/usr/local/lib/python3.7/site-packages/torch/tensor.py\u001b[0m in \u001b[0;36mbackward\u001b[0;34m(self, gradient, retain_graph, create_graph)\u001b[0m\n\u001b[1;32m    148\u001b[0m                 \u001b[0mproducts\u001b[0m\u001b[0;34m.\u001b[0m \u001b[0mDefaults\u001b[0m \u001b[0mto\u001b[0m\u001b[0;31m \u001b[0m\u001b[0;31m`\u001b[0m\u001b[0;31m`\u001b[0m\u001b[0;32mFalse\u001b[0m\u001b[0;31m`\u001b[0m\u001b[0;31m`\u001b[0m\u001b[0;34m.\u001b[0m\u001b[0;34m\u001b[0m\u001b[0;34m\u001b[0m\u001b[0m\n\u001b[1;32m    149\u001b[0m         \"\"\"\n\u001b[0;32m--> 150\u001b[0;31m         \u001b[0mtorch\u001b[0m\u001b[0;34m.\u001b[0m\u001b[0mautograd\u001b[0m\u001b[0;34m.\u001b[0m\u001b[0mbackward\u001b[0m\u001b[0;34m(\u001b[0m\u001b[0mself\u001b[0m\u001b[0;34m,\u001b[0m \u001b[0mgradient\u001b[0m\u001b[0;34m,\u001b[0m \u001b[0mretain_graph\u001b[0m\u001b[0;34m,\u001b[0m \u001b[0mcreate_graph\u001b[0m\u001b[0;34m)\u001b[0m\u001b[0;34m\u001b[0m\u001b[0;34m\u001b[0m\u001b[0m\n\u001b[0m\u001b[1;32m    151\u001b[0m \u001b[0;34m\u001b[0m\u001b[0m\n\u001b[1;32m    152\u001b[0m     \u001b[0;32mdef\u001b[0m \u001b[0mregister_hook\u001b[0m\u001b[0;34m(\u001b[0m\u001b[0mself\u001b[0m\u001b[0;34m,\u001b[0m \u001b[0mhook\u001b[0m\u001b[0;34m)\u001b[0m\u001b[0;34m:\u001b[0m\u001b[0;34m\u001b[0m\u001b[0;34m\u001b[0m\u001b[0m\n",
      "\u001b[0;32m/usr/local/lib/python3.7/site-packages/torch/autograd/__init__.py\u001b[0m in \u001b[0;36mbackward\u001b[0;34m(tensors, grad_tensors, retain_graph, create_graph, grad_variables)\u001b[0m\n\u001b[1;32m     97\u001b[0m     Variable._execution_engine.run_backward(\n\u001b[1;32m     98\u001b[0m         \u001b[0mtensors\u001b[0m\u001b[0;34m,\u001b[0m \u001b[0mgrad_tensors\u001b[0m\u001b[0;34m,\u001b[0m \u001b[0mretain_graph\u001b[0m\u001b[0;34m,\u001b[0m \u001b[0mcreate_graph\u001b[0m\u001b[0;34m,\u001b[0m\u001b[0;34m\u001b[0m\u001b[0;34m\u001b[0m\u001b[0m\n\u001b[0;32m---> 99\u001b[0;31m         allow_unreachable=True)  # allow_unreachable flag\n\u001b[0m\u001b[1;32m    100\u001b[0m \u001b[0;34m\u001b[0m\u001b[0m\n\u001b[1;32m    101\u001b[0m \u001b[0;34m\u001b[0m\u001b[0m\n",
      "\u001b[0;31mKeyboardInterrupt\u001b[0m: "
     ]
    }
   ],
   "source": [
    "seq2seq.teacher_forcing = 0.\n",
    "\n",
    "N_EPOCHS = 100\n",
    "CLIP = 1\n",
    "\n",
    "best_valid_loss = float('inf')\n",
    "\n",
    "for epoch in range(N_EPOCHS):\n",
    "    print(f'Epoch: {epoch+1:02}')\n",
    "    \n",
    "    train_loss = train(seq2seq, train_loader, optimizer, criterion, CLIP, src_vocab.PAD_token)\n",
    "#     valid_loss = evaluate(seq2seq, valid_loader, criterion)\n",
    "    valid_loss = evaluate(seq2seq, train_loader, criterion)\n",
    "\n",
    "\n",
    "\n",
    "    \n",
    "    if valid_loss < best_valid_loss:\n",
    "        best_valid_loss = valid_loss\n",
    "        torch.save(seq2seq.state_dict(), 'models/seq2seq_attention.pt')\n",
    "    \n",
    "    print(f'\\tTrain Loss: {train_loss:.3f} | Train PPL: {math.exp(train_loss):7.3f}')\n",
    "    print(f'\\t Val. Loss: {valid_loss:.3f} |  Val. PPL: {math.exp(valid_loss):7.3f}')\n"
   ]
  },
  {
   "cell_type": "code",
   "execution_count": 302,
   "metadata": {},
   "outputs": [
    {
     "name": "stdout",
     "output_type": "stream",
     "text": [
      "torch.Size([1, 32]) torch.Size([1, 32])\n"
     ]
    }
   ],
   "source": [
    "idx = 777\n",
    "\n",
    "src_sentence = valid_loader.dataset.tensors[0][idx:idx+1]\n",
    "tgt_sentence = valid_loader.dataset.tensors[1][idx:idx+1]\n",
    "\n",
    "print(src_sentence.size(), tgt_sentence.size())\n",
    "\n",
    "src_sentence = src_vocab.to_string(src_sentence, remove_special=True)[0]\n",
    "tgt_sentence = tgt_vocab.to_string(tgt_sentence, remove_special=True)[0]"
   ]
  },
  {
   "cell_type": "code",
   "execution_count": 303,
   "metadata": {},
   "outputs": [
    {
     "name": "stdout",
     "output_type": "stream",
     "text": [
      "tensor([[   3,    2,   29,    6,    2,   27,  376,   13,    1,  166,   28,    1,\n",
      "            1,   28, 1070,  512,   13,  107,   19,   89,    5,    4]])\n",
      "tensor([[  43,   13,   69,  166,   28, 1087,  396,   28, 1206,  374,  374,   15,\n",
      "            5,    4,    4,    4,    4,    4,    4,    4,    4,    4,    4,    4,\n",
      "            4,    4,    4,    4,    4,    4,    4,    4,    4,    4,    4,    4,\n",
      "            4,    4,    4]])\n"
     ]
    }
   ],
   "source": [
    "translation, attention = translate(src_sentence, seq2seq, src_vocab, tgt_vocab, src_vocab.PAD_token)"
   ]
  },
  {
   "cell_type": "code",
   "execution_count": 304,
   "metadata": {},
   "outputs": [
    {
     "name": "stdout",
     "output_type": "stream",
     "text": [
      "> a girl in a black tank with <unk> shorts to <unk> <unk> to be dancing with several people around .\n",
      "= a girl in a black tank with <unk> shorts to <unk> <unk> to be dancing with several people around .\n",
      "< three with one shorts to perform others to leap who who are .\n"
     ]
    }
   ],
   "source": [
    "print(f\"> {src_sentence}\")\n",
    "print(f\"= {tgt_sentence}\")\n",
    "print(f\"< {translation}\")"
   ]
  },
  {
   "cell_type": "code",
   "execution_count": null,
   "metadata": {},
   "outputs": [],
   "source": []
  },
  {
   "cell_type": "code",
   "execution_count": 305,
   "metadata": {},
   "outputs": [
    {
     "data": {
      "image/png": "[encoded data removed]",
      "text/plain": [
       "<Figure size 720x720 with 1 Axes>"
      ]
     },
     "metadata": {
      "needs_background": "light"
     },
     "output_type": "display_data"
    }
   ],
   "source": [
    "plot_attention(attention, src_sentence, translation)"
   ]
  },
  {
   "cell_type": "code",
   "execution_count": null,
   "metadata": {},
   "outputs": [],
   "source": []
  },
  {
   "cell_type": "code",
   "execution_count": null,
   "metadata": {},
   "outputs": [],
   "source": []
  },
  {
   "cell_type": "code",
   "execution_count": null,
   "metadata": {},
   "outputs": [],
   "source": []
  },
  {
   "cell_type": "code",
   "execution_count": null,
   "metadata": {},
   "outputs": [],
   "source": []
  },
  {
   "cell_type": "code",
   "execution_count": null,
   "metadata": {},
   "outputs": [],
   "source": []
  },
  {
   "cell_type": "code",
   "execution_count": null,
   "metadata": {},
   "outputs": [],
   "source": []
  },
  {
   "cell_type": "code",
   "execution_count": null,
   "metadata": {},
   "outputs": [],
   "source": []
  },
  {
   "cell_type": "code",
   "execution_count": null,
   "metadata": {},
   "outputs": [],
   "source": []
  },
  {
   "cell_type": "code",
   "execution_count": null,
   "metadata": {},
   "outputs": [],
   "source": []
  },
  {
   "cell_type": "code",
   "execution_count": null,
   "metadata": {},
   "outputs": [],
   "source": []
  },
  {
   "cell_type": "code",
   "execution_count": null,
   "metadata": {},
   "outputs": [],
   "source": []
  },
  {
   "cell_type": "code",
   "execution_count": null,
   "metadata": {},
   "outputs": [],
   "source": []
  },
  {
   "cell_type": "code",
   "execution_count": null,
   "metadata": {},
   "outputs": [],
   "source": []
  },
  {
   "cell_type": "code",
   "execution_count": null,
   "metadata": {},
   "outputs": [],
   "source": []
  }
 ],
 "metadata": {
  "kernelspec": {
   "display_name": "Python 3",
   "language": "python",
   "name": "python3"
  },
  "language_info": {
   "codemirror_mode": {
    "name": "ipython",
    "version": 3
   },
   "file_extension": ".py",
   "mimetype": "text/x-python",
   "name": "python",
   "nbconvert_exporter": "python",
   "pygments_lexer": "ipython3",
   "version": "3.7.3"
  }
 },
 "nbformat": 4,
 "nbformat_minor": 2
}
